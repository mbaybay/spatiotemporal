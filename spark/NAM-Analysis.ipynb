{
 "cells": [
  {
   "cell_type": "markdown",
   "metadata": {},
   "source": [
    "# NAM Dataset Analysis Using Spark\n",
    "## By: Melanie Baybay\n",
    "\n",
    "[Project 3: Deliverable I Description](https://www.cs.usfca.edu/~mmalensek/courses/cs686/projects/project-3.html#deliverable-i-individual-work)\n",
    "\n",
    "#### Resources: \n",
    "- [Data Dictionary](https://www.cs.usfca.edu/~mmalensek/courses/cs686/projects/project-2-data.html#cs686-project-2-data-dictionary)\n",
    "- [PySpark SQL Docs](http://spark.apache.org/docs/2.1.0/api/python/pyspark.sql.html#module-pyspark.sql)\n",
    "- [PySpark Statistics Docs](http://spark.apache.org/docs/2.0.0/api/python/pyspark.mllib.html#module-pyspark.mllib.stat)\n",
    "- [PyGeohash Docs](https://github.com/vinsci/geohash)\n",
    "- [Seaborn Docs](https://seaborn.pydata.org/examples/index.html)\n",
    "\n",
    "---\n",
    "# SETUP"
   ]
  },
  {
   "cell_type": "code",
   "execution_count": 1,
   "metadata": {
    "collapsed": true
   },
   "outputs": [],
   "source": [
    "from pyspark.sql.types import StructType, StructField, FloatType, LongType, StringType, TimestampType\n",
    "import pyspark.sql.functions as F\n",
    "from pyspark.mllib.stat import Statistics as stats\n",
    "import pygeohash as geohash\n",
    "import numpy as np\n",
    "import pandas as pd\n",
    "import seaborn as sns\n",
    "import matplotlib.pyplot as plt\n",
    "\n",
    "%matplotlib inline"
   ]
  },
  {
   "cell_type": "markdown",
   "metadata": {},
   "source": [
    "**Global Variables**"
   ]
  },
  {
   "cell_type": "code",
   "execution_count": 2,
   "metadata": {
    "collapsed": true
   },
   "outputs": [],
   "source": [
    "ftrs_filepath = 'features.txt'\n",
    "# data_filepath = 'nam_mini.tdv'\n",
    "data_filepath = 'mini-sample.tdv'"
   ]
  },
  {
   "cell_type": "markdown",
   "metadata": {},
   "source": [
    "Build dataset schema"
   ]
  },
  {
   "cell_type": "code",
   "execution_count": 3,
   "metadata": {
    "collapsed": true
   },
   "outputs": [],
   "source": [
    "feats = []\n",
    "f = open(ftrs_filepath)\n",
    "for line_num, line in enumerate(f):\n",
    "    if line_num == 0:\n",
    "        # Timestamp\n",
    "        feats.append(StructField(line.strip(), LongType(), True))\n",
    "    elif line_num == 1:\n",
    "        # Geohash\n",
    "        feats.append(StructField(line.strip(), StringType(), True))\n",
    "    else:\n",
    "        # Other features\n",
    "        feats.append(StructField(line.strip(), FloatType(), True))\n",
    "    \n",
    "schema = StructType(feats)"
   ]
  },
  {
   "cell_type": "code",
   "execution_count": 4,
   "metadata": {},
   "outputs": [
    {
     "name": "stdout",
     "output_type": "stream",
     "text": [
      "StructType(List(StructField(Timestamp,LongType,true),StructField(Geohash,StringType,true),StructField(geopotential_height_lltw,FloatType,true),StructField(water_equiv_of_accum_snow_depth_surface,FloatType,true),StructField(drag_coefficient_surface,FloatType,true)))\n"
     ]
    }
   ],
   "source": [
    "print(schema[:5])"
   ]
  },
  {
   "cell_type": "markdown",
   "metadata": {},
   "source": [
    "Use schema to create a DataFrame. Load data from tdv file. "
   ]
  },
  {
   "cell_type": "code",
   "execution_count": 5,
   "metadata": {
    "collapsed": true
   },
   "outputs": [],
   "source": [
    "raw_df = spark.read.format('csv').option('sep', '\\t').schema(schema).load(data_filepath)"
   ]
  },
  {
   "cell_type": "markdown",
   "metadata": {},
   "source": [
    "---"
   ]
  },
  {
   "cell_type": "markdown",
   "metadata": {},
   "source": [
    "# ANALYSIS\n",
    "**[3 pt]** Spark provides a different programming paradigm compared to MapReduce. Choose three of the questions from the previous assignment (not including the record count), and re-implement them using Spark.\n",
    "\n",
    "For this question, provide an overview of your experience with these jobs: did they complete faster? Was the programming model better or worse? Which did you prefer?"
   ]
  },
  {
   "cell_type": "code",
   "execution_count": 6,
   "metadata": {
    "collapsed": true
   },
   "outputs": [],
   "source": [
    "fmt = \"MM-yyyy\"\n",
    "df = raw_df.withColumn(\"Timestamp\", F.to_date(F.from_unixtime(raw_df['Timestamp'] / 1000, format=fmt), format=fmt))"
   ]
  },
  {
   "cell_type": "code",
   "execution_count": 7,
   "metadata": {},
   "outputs": [
    {
     "data": {
      "text/plain": [
       "[Row(Timestamp=datetime.date(2015, 4, 1), Geohash='dtb8zh79hs80', geopotential_height_lltw=1729.817138671875, water_equiv_of_accum_snow_depth_surface=0.0, drag_coefficient_surface=0.0, sensible_heat_net_flux_surface=13.718368530273438, categorical_ice_pellets_yes1_no0_surface=0.0, visibility_surface=24221.205078125, number_of_soil_layers_in_root_zone_surface=0.0, categorical_freezing_rain_yes1_no0_surface=0.0, pressure_reduced_to_msl_msl=100951.0, upward_short_wave_rad_flux_surface=0.0, relative_humidity_zerodegc_isotherm=62.0, categorical_snow_yes1_no0_surface=0.0, u-component_of_wind_tropopause=47.37763977050781, surface_wind_gust_surface=4.7406392097473145, total_cloud_cover_entire_atmosphere=100.0, upward_long_wave_rad_flux_surface=411.655029296875, land_cover_land1_sea0_surface=0.0, vegitation_type_as_in_sib_surface=0.0, v-component_of_wind_pblri=-0.27825927734375, albedo_surface=6.0, lightning_surface=0.0, ice_cover_ice1_no_ice0_surface=0.0, convective_inhibition_surface=-0.16357421875, pressure_surface=100950.0, transpiration_stress-onset_soil_moisture_surface=0.0, soil_porosity_surface=0.0, vegetation_surface=0.0, categorical_rain_yes1_no0_surface=0.0, downward_long_wave_rad_flux_surface=373.04144287109375, planetary_boundary_layer_height_surface=1992.5, soil_type_as_in_zobler_surface=0.0, geopotential_height_cloud_base=4448.0, friction_velocity_surface=0.15259231626987457, maximumcomposite_radar_reflectivity_entire_atmosphere=12.0625, plant_canopy_surface_water_surface=0.0, v-component_of_wind_maximum_wind=17.329254150390625, geopotential_height_zerodegc_isotherm=3300.0, mean_sea_level_pressure_nam_model_reduction_msl=100950.0, temperature_surface=294.092041015625, snow_cover_surface=0.0, geopotential_height_surface=0.0700225830078125, convective_available_potential_energy_surface=20.0, latent_heat_net_flux_surface=120.39616394042969, surface_roughness_surface=1.5900002836133353e-05, pressure_maximum_wind=22127.59765625, temperature_tropopause=206.00234985351562, geopotential_height_pblri=851.740966796875, pressure_tropopause=12817.2587890625, snow_depth_surface=0.0, v-component_of_wind_tropopause=-2.23284912109375, downward_short_wave_rad_flux_surface=0.0, u-component_of_wind_maximum_wind=74.42616271972656, wilting_point_surface=0.0, precipitable_water_entire_atmosphere=22.344053268432617, u-component_of_wind_pblri=4.789243698120117, direct_evaporation_cease_soil_moisture_surface=0.0)]"
      ]
     },
     "execution_count": 7,
     "metadata": {},
     "output_type": "execute_result"
    }
   ],
   "source": [
    "df.take(1)"
   ]
  },
  {
   "cell_type": "markdown",
   "metadata": {},
   "source": [
    "### a.) Are there any Geohashes that have snow depths greater than zero for the entire year? List some of the top Geohashes."
   ]
  },
  {
   "cell_type": "code",
   "execution_count": 8,
   "metadata": {
    "collapsed": true
   },
   "outputs": [],
   "source": [
    "snow_df = df.filter(df.snow_depth_surface > 0)"
   ]
  },
  {
   "cell_type": "code",
   "execution_count": 9,
   "metadata": {
    "collapsed": true
   },
   "outputs": [],
   "source": [
    "snow_geos = snow_df.select(\"Geohash\").distinct().collect()"
   ]
  },
  {
   "cell_type": "code",
   "execution_count": 10,
   "metadata": {
    "scrolled": true
   },
   "outputs": [
    {
     "data": {
      "text/plain": [
       "108408"
      ]
     },
     "execution_count": 10,
     "metadata": {},
     "output_type": "execute_result"
    }
   ],
   "source": [
    "len(snow_geos)"
   ]
  },
  {
   "cell_type": "code",
   "execution_count": 11,
   "metadata": {},
   "outputs": [
    {
     "data": {
      "text/plain": [
       "[Row(Geohash='9wujyzpsb5kp'),\n",
       " Row(Geohash='c2phkmdmrpkp'),\n",
       " Row(Geohash='c6hcynnqebeb')]"
      ]
     },
     "execution_count": 11,
     "metadata": {},
     "output_type": "execute_result"
    }
   ],
   "source": [
    "snow_geos[:3]"
   ]
  },
  {
   "cell_type": "markdown",
   "metadata": {},
   "source": [
    "### b.) What is the driest month in the bay area? This should include a histogram with data from each month. (Note: how did you determine what data points are in the bay area**"
   ]
  },
  {
   "cell_type": "code",
   "execution_count": 12,
   "metadata": {
    "collapsed": true
   },
   "outputs": [],
   "source": [
    "def init_bay_area_geo_list():\n",
    "    upper_lat = 38.32\n",
    "    lower_lat = 37.07\n",
    "    lower_lon = -123.04\n",
    "    upper_lon = -121.63\n",
    "    \n",
    "    lat_gap = (upper_lat - lower_lat) / 7\n",
    "    lon_gap = (lower_lon - upper_lon) / 4\n",
    "    top_left_lat = upper_lat - (lat_gap / 2)\n",
    "    top_left_lon = lower_lon - (lon_gap / 2)\n",
    "    \n",
    "    # get 7 center-point latitudes \n",
    "    lats = []\n",
    "    lat = top_left_lat\n",
    "    for i_lat in range(7):\n",
    "        lats.append(lat)\n",
    "        lat = lat - lat_gap\n",
    "        \n",
    "    # get 4 center-point longitudes\n",
    "    longs = []\n",
    "    lon = top_left_lon\n",
    "    for i_lon in range(4): \n",
    "        longs.append(lon)\n",
    "        lon = lon - lon_gap\n",
    "        \n",
    "    geohashes = []\n",
    "    for i in range(7):\n",
    "        for j in range(4):\n",
    "            geohashes.append(geohash.encode(lats[i], longs[j], precision=4))\n",
    "\n",
    "    return geohashes"
   ]
  },
  {
   "cell_type": "markdown",
   "metadata": {},
   "source": [
    "Initialize bay area geohash list"
   ]
  },
  {
   "cell_type": "code",
   "execution_count": 13,
   "metadata": {
    "collapsed": true
   },
   "outputs": [],
   "source": [
    "bay_area_geos = init_bay_area_geo_list()"
   ]
  },
  {
   "cell_type": "markdown",
   "metadata": {},
   "source": [
    "Filter data for observations in the Bay Area"
   ]
  },
  {
   "cell_type": "code",
   "execution_count": 14,
   "metadata": {},
   "outputs": [
    {
     "data": {
      "text/plain": [
       "[Row(Timestamp=datetime.date(2015, 4, 1), Geohash='9q9r62cj75s0', geopotential_height_lltw=1335.2265625, water_equiv_of_accum_snow_depth_surface=0.0, drag_coefficient_surface=0.0, sensible_heat_net_flux_surface=-17.169296264648438, categorical_ice_pellets_yes1_no0_surface=0.0, visibility_surface=5824.98974609375, number_of_soil_layers_in_root_zone_surface=3.0, categorical_freezing_rain_yes1_no0_surface=0.0, pressure_reduced_to_msl_msl=100875.0, upward_short_wave_rad_flux_surface=0.0, relative_humidity_zerodegc_isotherm=99.0, categorical_snow_yes1_no0_surface=0.0, u-component_of_wind_tropopause=43.19456481933594, surface_wind_gust_surface=12.384772300720215, total_cloud_cover_entire_atmosphere=100.0, upward_long_wave_rad_flux_surface=355.3033447265625, land_cover_land1_sea0_surface=1.0, vegitation_type_as_in_sib_surface=8.0, v-component_of_wind_pblri=12.555352210998535, albedo_surface=17.0, lightning_surface=0.0, ice_cover_ice1_no_ice0_surface=0.0, convective_inhibition_surface=-8.9775390625, pressure_surface=98204.0, transpiration_stress-onset_soil_moisture_surface=0.32999998331069946, soil_porosity_surface=0.5, vegetation_surface=64.25, categorical_rain_yes1_no0_surface=1.0, downward_long_wave_rad_flux_surface=342.613525390625, planetary_boundary_layer_height_surface=1680.25, soil_type_as_in_zobler_surface=6.0, geopotential_height_cloud_base=984.75, friction_velocity_surface=0.688788115978241, maximumcomposite_radar_reflectivity_entire_atmosphere=39.0, plant_canopy_surface_water_surface=0.5, v-component_of_wind_maximum_wind=12.239486694335938, geopotential_height_zerodegc_isotherm=1340.0, mean_sea_level_pressure_nam_model_reduction_msl=100879.0, temperature_surface=281.3241271972656, snow_cover_surface=0.0, geopotential_height_surface=222.5700225830078, convective_available_potential_energy_surface=20.0, latent_heat_net_flux_surface=20.856658935546875, surface_roughness_surface=0.9500159025192261, pressure_maximum_wind=26526.0234375, temperature_tropopause=222.20375061035156, geopotential_height_pblri=713.5074462890625, pressure_tropopause=25778.3125, snow_depth_surface=0.0, v-component_of_wind_tropopause=11.724594116210938, downward_short_wave_rad_flux_surface=0.0, u-component_of_wind_maximum_wind=43.35762023925781, wilting_point_surface=0.06624999642372131, precipitable_water_entire_atmosphere=17.480472564697266, u-component_of_wind_pblri=2.681844711303711, direct_evaporation_cease_soil_moisture_surface=0.06624999642372131)]"
      ]
     },
     "execution_count": 14,
     "metadata": {},
     "output_type": "execute_result"
    }
   ],
   "source": [
    "bay_area_nam = df.filter(df.Geohash.substr(0, 4).isin(bay_area_geos))\n",
    "bay_area_nam.take(1)"
   ]
  },
  {
   "cell_type": "markdown",
   "metadata": {},
   "source": [
    "Group by month and calculate average precipitation"
   ]
  },
  {
   "cell_type": "code",
   "execution_count": 15,
   "metadata": {},
   "outputs": [
    {
     "data": {
      "text/plain": [
       "[Row(Timestamp=datetime.date(2015, 4, 1), avg(precipitable_water_entire_atmosphere)=13.176793931170208),\n",
       " Row(Timestamp=datetime.date(2015, 8, 1), avg(precipitable_water_entire_atmosphere)=17.951878468967177),\n",
       " Row(Timestamp=datetime.date(2015, 2, 1), avg(precipitable_water_entire_atmosphere)=14.778396462931216),\n",
       " Row(Timestamp=datetime.date(2015, 6, 1), avg(precipitable_water_entire_atmosphere)=17.531964415057576),\n",
       " Row(Timestamp=datetime.date(2015, 12, 1), avg(precipitable_water_entire_atmosphere)=14.808884162620958),\n",
       " Row(Timestamp=datetime.date(2015, 3, 1), avg(precipitable_water_entire_atmosphere)=12.97494530984772),\n",
       " Row(Timestamp=datetime.date(2015, 7, 1), avg(precipitable_water_entire_atmosphere)=22.837172660631),\n",
       " Row(Timestamp=datetime.date(2015, 10, 1), avg(precipitable_water_entire_atmosphere)=19.172180623424296),\n",
       " Row(Timestamp=datetime.date(2015, 9, 1), avg(precipitable_water_entire_atmosphere)=17.56975182576395),\n",
       " Row(Timestamp=datetime.date(2015, 5, 1), avg(precipitable_water_entire_atmosphere)=15.038960558696857),\n",
       " Row(Timestamp=datetime.date(2015, 1, 1), avg(precipitable_water_entire_atmosphere)=13.630794437653428),\n",
       " Row(Timestamp=datetime.date(2015, 11, 1), avg(precipitable_water_entire_atmosphere)=12.303363883664822)]"
      ]
     },
     "execution_count": 15,
     "metadata": {},
     "output_type": "execute_result"
    }
   ],
   "source": [
    "bay_area_nam.groupBy(\"Timestamp\").mean(\"precipitable_water_entire_atmosphere\").collect()"
   ]
  },
  {
   "cell_type": "markdown",
   "metadata": {},
   "source": [
    "### c.) Given a Geohash prefix, create a climate chart for the region. This includes high, low, and average temperatures, as well as monthly average rainfall (precipitation). "
   ]
  },
  {
   "cell_type": "code",
   "execution_count": 16,
   "metadata": {
    "collapsed": true
   },
   "outputs": [],
   "source": [
    "user_geo = \"9q8\""
   ]
  },
  {
   "cell_type": "markdown",
   "metadata": {},
   "source": [
    "Filter df for rows that match user-defined geohash"
   ]
  },
  {
   "cell_type": "code",
   "execution_count": 17,
   "metadata": {
    "collapsed": true
   },
   "outputs": [],
   "source": [
    "region_df = df.filter(df.Geohash.substr(0, len(user_geo)).startswith(user_geo))"
   ]
  },
  {
   "cell_type": "code",
   "execution_count": 18,
   "metadata": {},
   "outputs": [
    {
     "data": {
      "text/plain": [
       "2677"
      ]
     },
     "execution_count": 18,
     "metadata": {},
     "output_type": "execute_result"
    }
   ],
   "source": [
    "region_df.count()"
   ]
  },
  {
   "cell_type": "code",
   "execution_count": 19,
   "metadata": {
    "collapsed": true
   },
   "outputs": [],
   "source": [
    "grouped_region = region_df.groupBy(\"Timestamp\")"
   ]
  },
  {
   "cell_type": "markdown",
   "metadata": {},
   "source": [
    "Method #1: Individual Calculation"
   ]
  },
  {
   "cell_type": "code",
   "execution_count": 20,
   "metadata": {
    "collapsed": true
   },
   "outputs": [],
   "source": [
    "high_temps = grouped_region.max('temperature_surface').collect()\n",
    "low_temps = grouped_region.min('temperature_surface').collect()\n",
    "avg_temps = grouped_region.avg('temperature_surface').collect()\n",
    "avg_rain = grouped_region.avg('precipitable_water_entire_atmosphere')"
   ]
  },
  {
   "cell_type": "code",
   "execution_count": 21,
   "metadata": {},
   "outputs": [
    {
     "name": "stdout",
     "output_type": "stream",
     "text": [
      "High temps: [Row(Timestamp=datetime.date(2015, 4, 1), max(temperature_surface)=298.092041015625), Row(Timestamp=datetime.date(2015, 8, 1), max(temperature_surface)=308.845703125), Row(Timestamp=datetime.date(2015, 2, 1), max(temperature_surface)=291.14007568359375), Row(Timestamp=datetime.date(2015, 6, 1), max(temperature_surface)=298.681640625), Row(Timestamp=datetime.date(2015, 12, 1), max(temperature_surface)=288.6158447265625), Row(Timestamp=datetime.date(2015, 3, 1), max(temperature_surface)=295.82366943359375), Row(Timestamp=datetime.date(2015, 7, 1), max(temperature_surface)=306.029296875), Row(Timestamp=datetime.date(2015, 10, 1), max(temperature_surface)=301.82568359375), Row(Timestamp=datetime.date(2015, 9, 1), max(temperature_surface)=299.048583984375), Row(Timestamp=datetime.date(2015, 5, 1), max(temperature_surface)=298.6064453125), Row(Timestamp=datetime.date(2015, 1, 1), max(temperature_surface)=289.25714111328125), Row(Timestamp=datetime.date(2015, 11, 1), max(temperature_surface)=290.952880859375)]\n"
     ]
    }
   ],
   "source": [
    "print(\"High temps: {}\".format(high_temps))"
   ]
  },
  {
   "cell_type": "markdown",
   "metadata": {},
   "source": [
    "Method #2: List comprehension"
   ]
  },
  {
   "cell_type": "code",
   "execution_count": 22,
   "metadata": {},
   "outputs": [
    {
     "name": "stdout",
     "output_type": "stream",
     "text": [
      "[Column<b'max(temperature_surface)'>, Column<b'min(temperature_surface)'>, Column<b'avg(temperature_surface)'>, Column<b'avg(precipitable_water_entire_atmosphere)'>]\n"
     ]
    }
   ],
   "source": [
    "cols = ['temperature_surface']\n",
    "funcs = [F.max, F.min, F.avg]\n",
    "exprs = [f(x) for x in cols for f in funcs]\n",
    "exprs.append(F.avg('precipitable_water_entire_atmosphere'))\n",
    "print(exprs)"
   ]
  },
  {
   "cell_type": "code",
   "execution_count": 23,
   "metadata": {
    "collapsed": true
   },
   "outputs": [],
   "source": [
    "results = grouped_region.agg(*exprs).toPandas()"
   ]
  },
  {
   "cell_type": "code",
   "execution_count": 24,
   "metadata": {
    "collapsed": true
   },
   "outputs": [],
   "source": [
    "results.sort_values('Timestamp', ascending=True, inplace=True)"
   ]
  },
  {
   "cell_type": "code",
   "execution_count": 25,
   "metadata": {
    "collapsed": true
   },
   "outputs": [],
   "source": [
    "results.reset_index(inplace=True)\n",
    "results.drop('index', axis=1, inplace=True)"
   ]
  },
  {
   "cell_type": "code",
   "execution_count": 26,
   "metadata": {},
   "outputs": [
    {
     "data": {
      "text/html": [
       "<div>\n",
       "<style>\n",
       "    .dataframe thead tr:only-child th {\n",
       "        text-align: right;\n",
       "    }\n",
       "\n",
       "    .dataframe thead th {\n",
       "        text-align: left;\n",
       "    }\n",
       "\n",
       "    .dataframe tbody tr th {\n",
       "        vertical-align: top;\n",
       "    }\n",
       "</style>\n",
       "<table border=\"1\" class=\"dataframe\">\n",
       "  <thead>\n",
       "    <tr style=\"text-align: right;\">\n",
       "      <th></th>\n",
       "      <th>Timestamp</th>\n",
       "      <th>max(temperature_surface)</th>\n",
       "      <th>min(temperature_surface)</th>\n",
       "      <th>avg(temperature_surface)</th>\n",
       "      <th>avg(precipitable_water_entire_atmosphere)</th>\n",
       "    </tr>\n",
       "  </thead>\n",
       "  <tbody>\n",
       "    <tr>\n",
       "      <th>0</th>\n",
       "      <td>2015-01-01</td>\n",
       "      <td>289.257141</td>\n",
       "      <td>280.051819</td>\n",
       "      <td>287.123029</td>\n",
       "      <td>13.291360</td>\n",
       "    </tr>\n",
       "    <tr>\n",
       "      <th>1</th>\n",
       "      <td>2015-02-01</td>\n",
       "      <td>291.140076</td>\n",
       "      <td>283.578003</td>\n",
       "      <td>287.400391</td>\n",
       "      <td>15.343026</td>\n",
       "    </tr>\n",
       "    <tr>\n",
       "      <th>2</th>\n",
       "      <td>2015-03-01</td>\n",
       "      <td>295.823669</td>\n",
       "      <td>282.383179</td>\n",
       "      <td>287.232194</td>\n",
       "      <td>13.020425</td>\n",
       "    </tr>\n",
       "    <tr>\n",
       "      <th>3</th>\n",
       "      <td>2015-04-01</td>\n",
       "      <td>298.092041</td>\n",
       "      <td>281.697083</td>\n",
       "      <td>285.633568</td>\n",
       "      <td>12.931769</td>\n",
       "    </tr>\n",
       "    <tr>\n",
       "      <th>4</th>\n",
       "      <td>2015-05-01</td>\n",
       "      <td>298.606445</td>\n",
       "      <td>282.981873</td>\n",
       "      <td>285.620847</td>\n",
       "      <td>14.944977</td>\n",
       "    </tr>\n",
       "    <tr>\n",
       "      <th>5</th>\n",
       "      <td>2015-06-01</td>\n",
       "      <td>298.681641</td>\n",
       "      <td>283.980469</td>\n",
       "      <td>287.348135</td>\n",
       "      <td>17.426049</td>\n",
       "    </tr>\n",
       "    <tr>\n",
       "      <th>6</th>\n",
       "      <td>2015-07-01</td>\n",
       "      <td>306.029297</td>\n",
       "      <td>285.715576</td>\n",
       "      <td>289.940131</td>\n",
       "      <td>24.348855</td>\n",
       "    </tr>\n",
       "    <tr>\n",
       "      <th>7</th>\n",
       "      <td>2015-08-01</td>\n",
       "      <td>308.845703</td>\n",
       "      <td>288.822998</td>\n",
       "      <td>291.068560</td>\n",
       "      <td>19.040381</td>\n",
       "    </tr>\n",
       "    <tr>\n",
       "      <th>8</th>\n",
       "      <td>2015-09-01</td>\n",
       "      <td>299.048584</td>\n",
       "      <td>286.892334</td>\n",
       "      <td>290.414897</td>\n",
       "      <td>18.683716</td>\n",
       "    </tr>\n",
       "    <tr>\n",
       "      <th>9</th>\n",
       "      <td>2015-10-01</td>\n",
       "      <td>301.825684</td>\n",
       "      <td>288.650635</td>\n",
       "      <td>291.130835</td>\n",
       "      <td>20.267960</td>\n",
       "    </tr>\n",
       "    <tr>\n",
       "      <th>10</th>\n",
       "      <td>2015-11-01</td>\n",
       "      <td>290.952881</td>\n",
       "      <td>280.623108</td>\n",
       "      <td>288.098749</td>\n",
       "      <td>13.464222</td>\n",
       "    </tr>\n",
       "    <tr>\n",
       "      <th>11</th>\n",
       "      <td>2015-12-01</td>\n",
       "      <td>288.615845</td>\n",
       "      <td>280.148895</td>\n",
       "      <td>287.426485</td>\n",
       "      <td>17.031342</td>\n",
       "    </tr>\n",
       "  </tbody>\n",
       "</table>\n",
       "</div>"
      ],
      "text/plain": [
       "     Timestamp  max(temperature_surface)  min(temperature_surface)  \\\n",
       "0   2015-01-01                289.257141                280.051819   \n",
       "1   2015-02-01                291.140076                283.578003   \n",
       "2   2015-03-01                295.823669                282.383179   \n",
       "3   2015-04-01                298.092041                281.697083   \n",
       "4   2015-05-01                298.606445                282.981873   \n",
       "5   2015-06-01                298.681641                283.980469   \n",
       "6   2015-07-01                306.029297                285.715576   \n",
       "7   2015-08-01                308.845703                288.822998   \n",
       "8   2015-09-01                299.048584                286.892334   \n",
       "9   2015-10-01                301.825684                288.650635   \n",
       "10  2015-11-01                290.952881                280.623108   \n",
       "11  2015-12-01                288.615845                280.148895   \n",
       "\n",
       "    avg(temperature_surface)  avg(precipitable_water_entire_atmosphere)  \n",
       "0                 287.123029                                  13.291360  \n",
       "1                 287.400391                                  15.343026  \n",
       "2                 287.232194                                  13.020425  \n",
       "3                 285.633568                                  12.931769  \n",
       "4                 285.620847                                  14.944977  \n",
       "5                 287.348135                                  17.426049  \n",
       "6                 289.940131                                  24.348855  \n",
       "7                 291.068560                                  19.040381  \n",
       "8                 290.414897                                  18.683716  \n",
       "9                 291.130835                                  20.267960  \n",
       "10                288.098749                                  13.464222  \n",
       "11                287.426485                                  17.031342  "
      ]
     },
     "execution_count": 26,
     "metadata": {},
     "output_type": "execute_result"
    }
   ],
   "source": [
    "results"
   ]
  },
  {
   "cell_type": "code",
   "execution_count": 27,
   "metadata": {
    "collapsed": true
   },
   "outputs": [],
   "source": [
    "results.rename(columns={'max(temperature_surface)': 'high_temp', 'min(temperature_surface)': 'low_temp', 'avg(temperature_surface)': 'avg_temp', 'avg(precipitable_water_entire_atmosphere)': 'avg_precip'}, inplace=True)"
   ]
  },
  {
   "cell_type": "code",
   "execution_count": 28,
   "metadata": {},
   "outputs": [
    {
     "data": {
      "text/html": [
       "<div>\n",
       "<style>\n",
       "    .dataframe thead tr:only-child th {\n",
       "        text-align: right;\n",
       "    }\n",
       "\n",
       "    .dataframe thead th {\n",
       "        text-align: left;\n",
       "    }\n",
       "\n",
       "    .dataframe tbody tr th {\n",
       "        vertical-align: top;\n",
       "    }\n",
       "</style>\n",
       "<table border=\"1\" class=\"dataframe\">\n",
       "  <thead>\n",
       "    <tr style=\"text-align: right;\">\n",
       "      <th></th>\n",
       "      <th>Timestamp</th>\n",
       "      <th>high_temp</th>\n",
       "      <th>low_temp</th>\n",
       "      <th>avg_temp</th>\n",
       "      <th>avg_precip</th>\n",
       "    </tr>\n",
       "  </thead>\n",
       "  <tbody>\n",
       "    <tr>\n",
       "      <th>0</th>\n",
       "      <td>2015-01-01</td>\n",
       "      <td>289.257141</td>\n",
       "      <td>280.051819</td>\n",
       "      <td>287.123029</td>\n",
       "      <td>13.291360</td>\n",
       "    </tr>\n",
       "    <tr>\n",
       "      <th>1</th>\n",
       "      <td>2015-02-01</td>\n",
       "      <td>291.140076</td>\n",
       "      <td>283.578003</td>\n",
       "      <td>287.400391</td>\n",
       "      <td>15.343026</td>\n",
       "    </tr>\n",
       "    <tr>\n",
       "      <th>2</th>\n",
       "      <td>2015-03-01</td>\n",
       "      <td>295.823669</td>\n",
       "      <td>282.383179</td>\n",
       "      <td>287.232194</td>\n",
       "      <td>13.020425</td>\n",
       "    </tr>\n",
       "    <tr>\n",
       "      <th>3</th>\n",
       "      <td>2015-04-01</td>\n",
       "      <td>298.092041</td>\n",
       "      <td>281.697083</td>\n",
       "      <td>285.633568</td>\n",
       "      <td>12.931769</td>\n",
       "    </tr>\n",
       "    <tr>\n",
       "      <th>4</th>\n",
       "      <td>2015-05-01</td>\n",
       "      <td>298.606445</td>\n",
       "      <td>282.981873</td>\n",
       "      <td>285.620847</td>\n",
       "      <td>14.944977</td>\n",
       "    </tr>\n",
       "    <tr>\n",
       "      <th>5</th>\n",
       "      <td>2015-06-01</td>\n",
       "      <td>298.681641</td>\n",
       "      <td>283.980469</td>\n",
       "      <td>287.348135</td>\n",
       "      <td>17.426049</td>\n",
       "    </tr>\n",
       "    <tr>\n",
       "      <th>6</th>\n",
       "      <td>2015-07-01</td>\n",
       "      <td>306.029297</td>\n",
       "      <td>285.715576</td>\n",
       "      <td>289.940131</td>\n",
       "      <td>24.348855</td>\n",
       "    </tr>\n",
       "    <tr>\n",
       "      <th>7</th>\n",
       "      <td>2015-08-01</td>\n",
       "      <td>308.845703</td>\n",
       "      <td>288.822998</td>\n",
       "      <td>291.068560</td>\n",
       "      <td>19.040381</td>\n",
       "    </tr>\n",
       "    <tr>\n",
       "      <th>8</th>\n",
       "      <td>2015-09-01</td>\n",
       "      <td>299.048584</td>\n",
       "      <td>286.892334</td>\n",
       "      <td>290.414897</td>\n",
       "      <td>18.683716</td>\n",
       "    </tr>\n",
       "    <tr>\n",
       "      <th>9</th>\n",
       "      <td>2015-10-01</td>\n",
       "      <td>301.825684</td>\n",
       "      <td>288.650635</td>\n",
       "      <td>291.130835</td>\n",
       "      <td>20.267960</td>\n",
       "    </tr>\n",
       "    <tr>\n",
       "      <th>10</th>\n",
       "      <td>2015-11-01</td>\n",
       "      <td>290.952881</td>\n",
       "      <td>280.623108</td>\n",
       "      <td>288.098749</td>\n",
       "      <td>13.464222</td>\n",
       "    </tr>\n",
       "    <tr>\n",
       "      <th>11</th>\n",
       "      <td>2015-12-01</td>\n",
       "      <td>288.615845</td>\n",
       "      <td>280.148895</td>\n",
       "      <td>287.426485</td>\n",
       "      <td>17.031342</td>\n",
       "    </tr>\n",
       "  </tbody>\n",
       "</table>\n",
       "</div>"
      ],
      "text/plain": [
       "     Timestamp   high_temp    low_temp    avg_temp  avg_precip\n",
       "0   2015-01-01  289.257141  280.051819  287.123029   13.291360\n",
       "1   2015-02-01  291.140076  283.578003  287.400391   15.343026\n",
       "2   2015-03-01  295.823669  282.383179  287.232194   13.020425\n",
       "3   2015-04-01  298.092041  281.697083  285.633568   12.931769\n",
       "4   2015-05-01  298.606445  282.981873  285.620847   14.944977\n",
       "5   2015-06-01  298.681641  283.980469  287.348135   17.426049\n",
       "6   2015-07-01  306.029297  285.715576  289.940131   24.348855\n",
       "7   2015-08-01  308.845703  288.822998  291.068560   19.040381\n",
       "8   2015-09-01  299.048584  286.892334  290.414897   18.683716\n",
       "9   2015-10-01  301.825684  288.650635  291.130835   20.267960\n",
       "10  2015-11-01  290.952881  280.623108  288.098749   13.464222\n",
       "11  2015-12-01  288.615845  280.148895  287.426485   17.031342"
      ]
     },
     "execution_count": 28,
     "metadata": {},
     "output_type": "execute_result"
    }
   ],
   "source": [
    "results"
   ]
  },
  {
   "cell_type": "code",
   "execution_count": 29,
   "metadata": {
    "collapsed": true
   },
   "outputs": [],
   "source": [
    "def KtoF(temp_k): \n",
    "    return temp_k * 9/5 - 459.67"
   ]
  },
  {
   "cell_type": "code",
   "execution_count": 30,
   "metadata": {
    "collapsed": true
   },
   "outputs": [],
   "source": [
    "results.high_temp = results.high_temp.apply(KtoF)"
   ]
  },
  {
   "cell_type": "code",
   "execution_count": 31,
   "metadata": {
    "collapsed": true
   },
   "outputs": [],
   "source": [
    "results.low_temp = results.low_temp.apply(KtoF)"
   ]
  },
  {
   "cell_type": "code",
   "execution_count": 32,
   "metadata": {
    "collapsed": true
   },
   "outputs": [],
   "source": [
    "results.avg_temp = results.avg_temp.apply(KtoF)"
   ]
  },
  {
   "cell_type": "code",
   "execution_count": 33,
   "metadata": {
    "collapsed": true
   },
   "outputs": [],
   "source": [
    "results.Timestamp = results.Timestamp.apply(lambda date: date.month)"
   ]
  },
  {
   "cell_type": "code",
   "execution_count": 34,
   "metadata": {},
   "outputs": [
    {
     "data": {
      "text/html": [
       "<div>\n",
       "<style>\n",
       "    .dataframe thead tr:only-child th {\n",
       "        text-align: right;\n",
       "    }\n",
       "\n",
       "    .dataframe thead th {\n",
       "        text-align: left;\n",
       "    }\n",
       "\n",
       "    .dataframe tbody tr th {\n",
       "        vertical-align: top;\n",
       "    }\n",
       "</style>\n",
       "<table border=\"1\" class=\"dataframe\">\n",
       "  <thead>\n",
       "    <tr style=\"text-align: right;\">\n",
       "      <th></th>\n",
       "      <th>Timestamp</th>\n",
       "      <th>high_temp</th>\n",
       "      <th>low_temp</th>\n",
       "      <th>avg_temp</th>\n",
       "      <th>avg_precip</th>\n",
       "    </tr>\n",
       "  </thead>\n",
       "  <tbody>\n",
       "    <tr>\n",
       "      <th>0</th>\n",
       "      <td>1</td>\n",
       "      <td>60.992854</td>\n",
       "      <td>44.423274</td>\n",
       "      <td>57.151452</td>\n",
       "      <td>13.291360</td>\n",
       "    </tr>\n",
       "    <tr>\n",
       "      <th>1</th>\n",
       "      <td>2</td>\n",
       "      <td>64.382136</td>\n",
       "      <td>50.770405</td>\n",
       "      <td>57.650704</td>\n",
       "      <td>15.343026</td>\n",
       "    </tr>\n",
       "    <tr>\n",
       "      <th>2</th>\n",
       "      <td>3</td>\n",
       "      <td>72.812605</td>\n",
       "      <td>48.619722</td>\n",
       "      <td>57.347949</td>\n",
       "      <td>13.020425</td>\n",
       "    </tr>\n",
       "    <tr>\n",
       "      <th>3</th>\n",
       "      <td>4</td>\n",
       "      <td>76.895674</td>\n",
       "      <td>47.384749</td>\n",
       "      <td>54.470422</td>\n",
       "      <td>12.931769</td>\n",
       "    </tr>\n",
       "    <tr>\n",
       "      <th>4</th>\n",
       "      <td>5</td>\n",
       "      <td>77.821602</td>\n",
       "      <td>49.697371</td>\n",
       "      <td>54.447524</td>\n",
       "      <td>14.944977</td>\n",
       "    </tr>\n",
       "    <tr>\n",
       "      <th>5</th>\n",
       "      <td>6</td>\n",
       "      <td>77.956953</td>\n",
       "      <td>51.494844</td>\n",
       "      <td>57.556643</td>\n",
       "      <td>17.426049</td>\n",
       "    </tr>\n",
       "    <tr>\n",
       "      <th>6</th>\n",
       "      <td>7</td>\n",
       "      <td>91.182734</td>\n",
       "      <td>54.618037</td>\n",
       "      <td>62.222236</td>\n",
       "      <td>24.348855</td>\n",
       "    </tr>\n",
       "    <tr>\n",
       "      <th>7</th>\n",
       "      <td>8</td>\n",
       "      <td>96.252266</td>\n",
       "      <td>60.211396</td>\n",
       "      <td>64.253408</td>\n",
       "      <td>19.040381</td>\n",
       "    </tr>\n",
       "    <tr>\n",
       "      <th>8</th>\n",
       "      <td>9</td>\n",
       "      <td>78.617451</td>\n",
       "      <td>56.736201</td>\n",
       "      <td>63.076814</td>\n",
       "      <td>18.683716</td>\n",
       "    </tr>\n",
       "    <tr>\n",
       "      <th>9</th>\n",
       "      <td>10</td>\n",
       "      <td>83.616230</td>\n",
       "      <td>59.901143</td>\n",
       "      <td>64.365503</td>\n",
       "      <td>20.267960</td>\n",
       "    </tr>\n",
       "    <tr>\n",
       "      <th>10</th>\n",
       "      <td>11</td>\n",
       "      <td>64.045186</td>\n",
       "      <td>45.451594</td>\n",
       "      <td>58.907748</td>\n",
       "      <td>13.464222</td>\n",
       "    </tr>\n",
       "    <tr>\n",
       "      <th>11</th>\n",
       "      <td>12</td>\n",
       "      <td>59.838521</td>\n",
       "      <td>44.598011</td>\n",
       "      <td>57.697673</td>\n",
       "      <td>17.031342</td>\n",
       "    </tr>\n",
       "  </tbody>\n",
       "</table>\n",
       "</div>"
      ],
      "text/plain": [
       "    Timestamp  high_temp   low_temp   avg_temp  avg_precip\n",
       "0           1  60.992854  44.423274  57.151452   13.291360\n",
       "1           2  64.382136  50.770405  57.650704   15.343026\n",
       "2           3  72.812605  48.619722  57.347949   13.020425\n",
       "3           4  76.895674  47.384749  54.470422   12.931769\n",
       "4           5  77.821602  49.697371  54.447524   14.944977\n",
       "5           6  77.956953  51.494844  57.556643   17.426049\n",
       "6           7  91.182734  54.618037  62.222236   24.348855\n",
       "7           8  96.252266  60.211396  64.253408   19.040381\n",
       "8           9  78.617451  56.736201  63.076814   18.683716\n",
       "9          10  83.616230  59.901143  64.365503   20.267960\n",
       "10         11  64.045186  45.451594  58.907748   13.464222\n",
       "11         12  59.838521  44.598011  57.697673   17.031342"
      ]
     },
     "execution_count": 34,
     "metadata": {},
     "output_type": "execute_result"
    }
   ],
   "source": [
    "results"
   ]
  },
  {
   "cell_type": "code",
   "execution_count": 35,
   "metadata": {},
   "outputs": [
    {
     "data": {
      "text/plain": [
       "57.650704123757066"
      ]
     },
     "execution_count": 35,
     "metadata": {},
     "output_type": "execute_result"
    }
   ],
   "source": [
    "results.avg_temp.iloc[1]"
   ]
  },
  {
   "cell_type": "code",
   "execution_count": 36,
   "metadata": {
    "collapsed": true
   },
   "outputs": [],
   "source": [
    "# modified from malensek: https://raw.githubusercontent.com/malensek/climate-chart/master/plot.py\n",
    "\n",
    "import sys\n",
    "import numpy as np\n",
    "import matplotlib.pyplot as plt\n",
    "import matplotlib.patches as patches\n",
    "import matplotlib.gridspec as gridspec\n",
    "import matplotlib\n",
    "from matplotlib import rc"
   ]
  },
  {
   "cell_type": "code",
   "execution_count": 37,
   "metadata": {
    "collapsed": true
   },
   "outputs": [],
   "source": [
    "def disable_spines(ax):\n",
    "    for s in ax.spines:\n",
    "        ax.spines[s].set_visible(False)"
   ]
  },
  {
   "cell_type": "code",
   "execution_count": 38,
   "metadata": {},
   "outputs": [
    {
     "data": {
      "text/plain": [
       "<matplotlib.text.Text at 0x120a0dba8>"
      ]
     },
     "execution_count": 38,
     "metadata": {},
     "output_type": "execute_result"
    },
    {
     "data": {
      "text/plain": [
       "<matplotlib.figure.Figure at 0x10fa40748>"
      ]
     },
     "metadata": {},
     "output_type": "display_data"
    },
    {
     "data": {
      "image/png": "[encoded data removed]",
      "text/plain": [
       "<matplotlib.figure.Figure at 0x10fa40710>"
      ]
     },
     "metadata": {},
     "output_type": "display_data"
    }
   ],
   "source": [
    "rc('font',**{'family':'sans-serif','sans-serif':['Arial']})\n",
    "\n",
    "plt.ion()\n",
    "plt.clf()\n",
    "fig = plt.figure(figsize=(8, 5))\n",
    "fig.subplots_adjust(hspace=.20)\n",
    "gs = gridspec.GridSpec(2, 1, height_ratios=[1.75, 1])\n",
    "ax0 = plt.subplot(gs[0])\n",
    "ax1 = plt.subplot(gs[1], sharex=ax0)\n",
    "plt.setp(ax0.get_xticklabels(), visible=False) # disable upper axis label\n",
    "\n",
    "ax0.patch.set_facecolor('None')\n",
    "ax1.patch.set_facecolor('None')\n",
    "\n",
    "plt.suptitle('Climate Overview: ' + \"Geohash Prefix, '{}'\".format(user_geo), fontsize=14)\n",
    "\n",
    "y = np.mean(results.avg_temp)\n",
    "ax0.plot([0, results.Timestamp.max() + 1],  [y, y], zorder=-1, color='#888888',\n",
    "         alpha=.75, dashes=(8, 2))\n",
    "\n",
    "rects0 = ax0.bar(.35 + results.Timestamp - 1, results.low_temp - results.high_temp, bottom=results.high_temp,\n",
    "        width=.6, color='#df3c3c', edgecolor='#731515')\n",
    "\n",
    "rects1 = ax1.bar(.35 + results.Timestamp - 1, results.avg_precip, color='#1b7edb', width=.6,\n",
    "        edgecolor='#1d4871')\n",
    "\n",
    "plt.xticks(np.arange(0,12) + .4, ['Jan', 'Feb', 'Mar', 'Apr', 'May', 'Jun',\n",
    "    'Jul', 'Aug', 'Sep', 'Oct', 'Nov', 'Dec'],\n",
    "    rotation=30)\n",
    "\n",
    "disable_spines(ax0)\n",
    "disable_spines(ax1)\n",
    "ax0.spines['left'].set_visible(True)\n",
    "ax1.spines['left'].set_visible(True)\n",
    "\n",
    "for tic in ax0.xaxis.get_major_ticks():\n",
    "    tic.tick1On = tic.tick2On = False\n",
    "\n",
    "for tic in ax0.yaxis.get_major_ticks():\n",
    "    tic.tick2On = False\n",
    "\n",
    "for tic in ax1.xaxis.get_major_ticks():\n",
    "    tic.tick1On = tic.tick2On = False\n",
    "\n",
    "for tic in ax1.yaxis.get_major_ticks():\n",
    "    tic.tick2On = False\n",
    "\n",
    "for rect in rects1:\n",
    "    height = rect.get_height()\n",
    "    ax1.text(rect.get_x() + rect.get_width()/2., 1.08*height,\n",
    "        '%.1f' % (height), ha='center', va='bottom', color='#1d4871')\n",
    "\n",
    "for r, rect in enumerate(rects0):\n",
    "    height = rect.get_height()\n",
    "    ax0.text(rect.get_x() + rect.get_width()/2., rect.get_y() + 1.08*height,\n",
    "        '%d' % int(height + rect.get_y()), ha='center', va='bottom',\n",
    "        color='#731515')\n",
    "    ax0.text(rect.get_x() + rect.get_width()/2., rect.get_y() - 2,\n",
    "        '%d' % int(rect.get_y()), ha='center', va='top', color='#731515')\n",
    "    ax0.plot([rect.get_x() + .05, rect.get_x() + rect.get_width() - .05],\n",
    "            [results.avg_temp.iloc[r], results.avg_temp.iloc[r]], color='#731515')\n",
    "\n",
    "\n",
    "ax0.set_ylabel('Temperature (F)')\n",
    "ax1.set_ylabel('Precipitation (in)')\n",
    "\n",
    "# plt.savefig(outfile, bbox_inches='tight')"
   ]
  },
  {
   "cell_type": "markdown",
   "metadata": {},
   "source": [
    "---\n",
    "\n",
    "**[2 pt]** It is often useful to understand feature properties and distributions. Build a Spark job that computes summary statistics for each feature. This should include:\n",
    "- Min, max values\n",
    "- Average\n",
    "- Standard deviation"
   ]
  },
  {
   "cell_type": "code",
   "execution_count": 39,
   "metadata": {
    "collapsed": true
   },
   "outputs": [],
   "source": [
    "summary = df.describe().toPandas()"
   ]
  },
  {
   "cell_type": "code",
   "execution_count": 40,
   "metadata": {
    "collapsed": true
   },
   "outputs": [],
   "source": [
    "summary = summary.transpose()\n",
    "# summary.index"
   ]
  },
  {
   "cell_type": "code",
   "execution_count": 41,
   "metadata": {},
   "outputs": [
    {
     "data": {
      "text/plain": [
       "0     count\n",
       "1      mean\n",
       "2    stddev\n",
       "3       min\n",
       "4       max\n",
       "Name: summary, dtype: object"
      ]
     },
     "execution_count": 41,
     "metadata": {},
     "output_type": "execute_result"
    }
   ],
   "source": [
    "summary.loc[\"summary\"]"
   ]
  },
  {
   "cell_type": "code",
   "execution_count": 42,
   "metadata": {
    "collapsed": true,
    "scrolled": false
   },
   "outputs": [],
   "source": [
    "summary.columns = summary.loc[\"summary\"]\n",
    "summary = summary.reindex(summary.index.drop(\"summary\"))"
   ]
  },
  {
   "cell_type": "code",
   "execution_count": 43,
   "metadata": {},
   "outputs": [
    {
     "data": {
      "text/html": [
       "<div>\n",
       "<style>\n",
       "    .dataframe thead tr:only-child th {\n",
       "        text-align: right;\n",
       "    }\n",
       "\n",
       "    .dataframe thead th {\n",
       "        text-align: left;\n",
       "    }\n",
       "\n",
       "    .dataframe tbody tr th {\n",
       "        vertical-align: top;\n",
       "    }\n",
       "</style>\n",
       "<table border=\"1\" class=\"dataframe\">\n",
       "  <thead>\n",
       "    <tr style=\"text-align: right;\">\n",
       "      <th>summary</th>\n",
       "      <th>count</th>\n",
       "      <th>mean</th>\n",
       "      <th>stddev</th>\n",
       "      <th>min</th>\n",
       "      <th>max</th>\n",
       "    </tr>\n",
       "  </thead>\n",
       "  <tbody>\n",
       "    <tr>\n",
       "      <th>Geohash</th>\n",
       "      <td>5404746</td>\n",
       "      <td>None</td>\n",
       "      <td>None</td>\n",
       "      <td>8gpfpw10qhzz</td>\n",
       "      <td>ffhyjnk2fgtb</td>\n",
       "    </tr>\n",
       "    <tr>\n",
       "      <th>geopotential_height_lltw</th>\n",
       "      <td>5404746</td>\n",
       "      <td>2141.460589701558</td>\n",
       "      <td>1898.1221123819798</td>\n",
       "      <td>-8015.5312</td>\n",
       "      <td>6202.4365</td>\n",
       "    </tr>\n",
       "    <tr>\n",
       "      <th>water_equiv_of_accum_snow_depth_surface</th>\n",
       "      <td>5404746</td>\n",
       "      <td>8.035800387291186</td>\n",
       "      <td>37.34503968059668</td>\n",
       "      <td>0.0</td>\n",
       "      <td>5649.0</td>\n",
       "    </tr>\n",
       "    <tr>\n",
       "      <th>drag_coefficient_surface</th>\n",
       "      <td>5404746</td>\n",
       "      <td>0.15554024185410378</td>\n",
       "      <td>39.85484170219889</td>\n",
       "      <td>0.0</td>\n",
       "      <td>48000.0</td>\n",
       "    </tr>\n",
       "    <tr>\n",
       "      <th>sensible_heat_net_flux_surface</th>\n",
       "      <td>5404746</td>\n",
       "      <td>2460.591012176307</td>\n",
       "      <td>49251.43240969251</td>\n",
       "      <td>-317.96582</td>\n",
       "      <td>1000000.1</td>\n",
       "    </tr>\n",
       "    <tr>\n",
       "      <th>categorical_ice_pellets_yes1_no0_surface</th>\n",
       "      <td>5404746</td>\n",
       "      <td>3.0547226456155386E-4</td>\n",
       "      <td>0.01747509678826262</td>\n",
       "      <td>0.0</td>\n",
       "      <td>1.0</td>\n",
       "    </tr>\n",
       "    <tr>\n",
       "      <th>visibility_surface</th>\n",
       "      <td>5404746</td>\n",
       "      <td>21715.863747615178</td>\n",
       "      <td>6142.599331655233</td>\n",
       "      <td>17.292929</td>\n",
       "      <td>24307.436</td>\n",
       "    </tr>\n",
       "    <tr>\n",
       "      <th>number_of_soil_layers_in_root_zone_surface</th>\n",
       "      <td>5404746</td>\n",
       "      <td>1.5996940466767542</td>\n",
       "      <td>1.7434935950250698</td>\n",
       "      <td>0.0</td>\n",
       "      <td>4.0</td>\n",
       "    </tr>\n",
       "    <tr>\n",
       "      <th>categorical_freezing_rain_yes1_no0_surface</th>\n",
       "      <td>5404746</td>\n",
       "      <td>6.860636929098981E-4</td>\n",
       "      <td>0.026183833492622318</td>\n",
       "      <td>0.0</td>\n",
       "      <td>1.0</td>\n",
       "    </tr>\n",
       "    <tr>\n",
       "      <th>pressure_reduced_to_msl_msl</th>\n",
       "      <td>5404746</td>\n",
       "      <td>101574.21354343016</td>\n",
       "      <td>790.8951387654217</td>\n",
       "      <td>94951.0</td>\n",
       "      <td>106272.0</td>\n",
       "    </tr>\n",
       "    <tr>\n",
       "      <th>upward_short_wave_rad_flux_surface</th>\n",
       "      <td>5404746</td>\n",
       "      <td>28.2053758189692</td>\n",
       "      <td>54.777193725341185</td>\n",
       "      <td>0.0</td>\n",
       "      <td>740.6743</td>\n",
       "    </tr>\n",
       "    <tr>\n",
       "      <th>relative_humidity_zerodegc_isotherm</th>\n",
       "      <td>5404746</td>\n",
       "      <td>52.952279718602874</td>\n",
       "      <td>31.9296029972151</td>\n",
       "      <td>1.0</td>\n",
       "      <td>100.0</td>\n",
       "    </tr>\n",
       "    <tr>\n",
       "      <th>categorical_snow_yes1_no0_surface</th>\n",
       "      <td>5404746</td>\n",
       "      <td>0.027455684318930067</td>\n",
       "      <td>0.16340708264319226</td>\n",
       "      <td>0.0</td>\n",
       "      <td>1.0</td>\n",
       "    </tr>\n",
       "    <tr>\n",
       "      <th>u-component_of_wind_tropopause</th>\n",
       "      <td>5404746</td>\n",
       "      <td>17.582724318819597</td>\n",
       "      <td>16.734727665552164</td>\n",
       "      <td>-55.355972</td>\n",
       "      <td>107.98924</td>\n",
       "    </tr>\n",
       "    <tr>\n",
       "      <th>surface_wind_gust_surface</th>\n",
       "      <td>5404746</td>\n",
       "      <td>6.847739082294098</td>\n",
       "      <td>4.4615172247444</td>\n",
       "      <td>0.001954686</td>\n",
       "      <td>54.79795</td>\n",
       "    </tr>\n",
       "    <tr>\n",
       "      <th>total_cloud_cover_entire_atmosphere</th>\n",
       "      <td>5404746</td>\n",
       "      <td>-2.43175966213815232E17</td>\n",
       "      <td>4.9252966090403953E18</td>\n",
       "      <td>-1.0000036E20</td>\n",
       "      <td>100.0</td>\n",
       "    </tr>\n",
       "    <tr>\n",
       "      <th>upward_long_wave_rad_flux_surface</th>\n",
       "      <td>5404746</td>\n",
       "      <td>384.21388734234324</td>\n",
       "      <td>70.95122269199486</td>\n",
       "      <td>0.0</td>\n",
       "      <td>669.9768</td>\n",
       "    </tr>\n",
       "    <tr>\n",
       "      <th>land_cover_land1_sea0_surface</th>\n",
       "      <td>5404746</td>\n",
       "      <td>0.46817001205977116</td>\n",
       "      <td>0.49898586947519824</td>\n",
       "      <td>0.0</td>\n",
       "      <td>1.0</td>\n",
       "    </tr>\n",
       "    <tr>\n",
       "      <th>vegitation_type_as_in_sib_surface</th>\n",
       "      <td>5404746</td>\n",
       "      <td>3.4795825742782363</td>\n",
       "      <td>5.111687219984928</td>\n",
       "      <td>0.0</td>\n",
       "      <td>19.0</td>\n",
       "    </tr>\n",
       "    <tr>\n",
       "      <th>v-component_of_wind_pblri</th>\n",
       "      <td>5404746</td>\n",
       "      <td>-0.14941441312262074</td>\n",
       "      <td>5.521963042003624</td>\n",
       "      <td>-54.292908</td>\n",
       "      <td>56.326706</td>\n",
       "    </tr>\n",
       "    <tr>\n",
       "      <th>albedo_surface</th>\n",
       "      <td>5404746</td>\n",
       "      <td>15.875211110753401</td>\n",
       "      <td>15.431209368901943</td>\n",
       "      <td>6.0</td>\n",
       "      <td>80.0</td>\n",
       "    </tr>\n",
       "    <tr>\n",
       "      <th>lightning_surface</th>\n",
       "      <td>5404746</td>\n",
       "      <td>0.03504790049338119</td>\n",
       "      <td>0.18390092827870047</td>\n",
       "      <td>0.0</td>\n",
       "      <td>1.0</td>\n",
       "    </tr>\n",
       "    <tr>\n",
       "      <th>ice_cover_ice1_no_ice0_surface</th>\n",
       "      <td>5404746</td>\n",
       "      <td>0.02289247265273891</td>\n",
       "      <td>0.14956072842575854</td>\n",
       "      <td>0.0</td>\n",
       "      <td>1.0</td>\n",
       "    </tr>\n",
       "    <tr>\n",
       "      <th>convective_inhibition_surface</th>\n",
       "      <td>5404746</td>\n",
       "      <td>-11.585870085432866</td>\n",
       "      <td>46.21815913426511</td>\n",
       "      <td>-1270.3417</td>\n",
       "      <td>10.717163</td>\n",
       "    </tr>\n",
       "    <tr>\n",
       "      <th>pressure_surface</th>\n",
       "      <td>5404746</td>\n",
       "      <td>97921.93197108616</td>\n",
       "      <td>6044.402231989399</td>\n",
       "      <td>64793.0</td>\n",
       "      <td>105153.0</td>\n",
       "    </tr>\n",
       "    <tr>\n",
       "      <th>transpiration_stress-onset_soil_moisture_surface</th>\n",
       "      <td>5404746</td>\n",
       "      <td>0.1549934152875891</td>\n",
       "      <td>0.16673067708897651</td>\n",
       "      <td>0.0</td>\n",
       "      <td>0.405</td>\n",
       "    </tr>\n",
       "    <tr>\n",
       "      <th>soil_porosity_surface</th>\n",
       "      <td>5404746</td>\n",
       "      <td>0.23408500602988558</td>\n",
       "      <td>0.24949293473759912</td>\n",
       "      <td>0.0</td>\n",
       "      <td>0.5</td>\n",
       "    </tr>\n",
       "    <tr>\n",
       "      <th>vegetation_surface</th>\n",
       "      <td>5404746</td>\n",
       "      <td>15.446288548990092</td>\n",
       "      <td>24.531123888080725</td>\n",
       "      <td>0.0</td>\n",
       "      <td>99.0</td>\n",
       "    </tr>\n",
       "    <tr>\n",
       "      <th>categorical_rain_yes1_no0_surface</th>\n",
       "      <td>5404746</td>\n",
       "      <td>0.08854384646383012</td>\n",
       "      <td>0.28408422808958095</td>\n",
       "      <td>0.0</td>\n",
       "      <td>1.0</td>\n",
       "    </tr>\n",
       "    <tr>\n",
       "      <th>downward_long_wave_rad_flux_surface</th>\n",
       "      <td>5404746</td>\n",
       "      <td>335.87168615582425</td>\n",
       "      <td>71.9186147303611</td>\n",
       "      <td>0.0</td>\n",
       "      <td>519.3325</td>\n",
       "    </tr>\n",
       "    <tr>\n",
       "      <th>planetary_boundary_layer_height_surface</th>\n",
       "      <td>5404746</td>\n",
       "      <td>-1075.3082378663123</td>\n",
       "      <td>49332.54353623342</td>\n",
       "      <td>-1000000.0</td>\n",
       "      <td>21114.0</td>\n",
       "    </tr>\n",
       "    <tr>\n",
       "      <th>soil_type_as_in_zobler_surface</th>\n",
       "      <td>5404746</td>\n",
       "      <td>2.439781258915775</td>\n",
       "      <td>3.185327619534309</td>\n",
       "      <td>0.0</td>\n",
       "      <td>16.0</td>\n",
       "    </tr>\n",
       "    <tr>\n",
       "      <th>geopotential_height_cloud_base</th>\n",
       "      <td>5404746</td>\n",
       "      <td>-362.3657659567715</td>\n",
       "      <td>3283.5747322968123</td>\n",
       "      <td>-5000.0</td>\n",
       "      <td>14267.0</td>\n",
       "    </tr>\n",
       "    <tr>\n",
       "      <th>friction_velocity_surface</th>\n",
       "      <td>5404746</td>\n",
       "      <td>0.3284759805524842</td>\n",
       "      <td>0.22047062014074134</td>\n",
       "      <td>7.477789E-5</td>\n",
       "      <td>2.4386146</td>\n",
       "    </tr>\n",
       "    <tr>\n",
       "      <th>maximumcomposite_radar_reflectivity_entire_atmosphere</th>\n",
       "      <td>5404746</td>\n",
       "      <td>-7.287122246355333</td>\n",
       "      <td>15.900977849621071</td>\n",
       "      <td>-20.0</td>\n",
       "      <td>52.8125</td>\n",
       "    </tr>\n",
       "    <tr>\n",
       "      <th>plant_canopy_surface_water_surface</th>\n",
       "      <td>5404746</td>\n",
       "      <td>0.060422839066438576</td>\n",
       "      <td>0.14807230433527246</td>\n",
       "      <td>0.0</td>\n",
       "      <td>0.5</td>\n",
       "    </tr>\n",
       "    <tr>\n",
       "      <th>v-component_of_wind_maximum_wind</th>\n",
       "      <td>5404746</td>\n",
       "      <td>-1.1453875962584352</td>\n",
       "      <td>18.98382475399417</td>\n",
       "      <td>-91.0031</td>\n",
       "      <td>106.09735</td>\n",
       "    </tr>\n",
       "    <tr>\n",
       "      <th>geopotential_height_zerodegc_isotherm</th>\n",
       "      <td>5404746</td>\n",
       "      <td>3092.661752293876</td>\n",
       "      <td>1753.14646588642</td>\n",
       "      <td>0.0</td>\n",
       "      <td>6326.5522</td>\n",
       "    </tr>\n",
       "    <tr>\n",
       "      <th>mean_sea_level_pressure_nam_model_reduction_msl</th>\n",
       "      <td>5404746</td>\n",
       "      <td>101541.29552693132</td>\n",
       "      <td>802.4057356789363</td>\n",
       "      <td>94951.0</td>\n",
       "      <td>106000.0</td>\n",
       "    </tr>\n",
       "    <tr>\n",
       "      <th>temperature_surface</th>\n",
       "      <td>5404746</td>\n",
       "      <td>287.31614237331695</td>\n",
       "      <td>14.097624763089943</td>\n",
       "      <td>219.74284</td>\n",
       "      <td>329.73193</td>\n",
       "    </tr>\n",
       "    <tr>\n",
       "      <th>snow_cover_surface</th>\n",
       "      <td>5404746</td>\n",
       "      <td>16.340825082251783</td>\n",
       "      <td>36.91038905317663</td>\n",
       "      <td>0.0</td>\n",
       "      <td>100.0</td>\n",
       "    </tr>\n",
       "    <tr>\n",
       "      <th>geopotential_height_surface</th>\n",
       "      <td>5404746</td>\n",
       "      <td>321.18403584078413</td>\n",
       "      <td>549.8004201177374</td>\n",
       "      <td>-73.92998</td>\n",
       "      <td>3576.32</td>\n",
       "    </tr>\n",
       "    <tr>\n",
       "      <th>convective_available_potential_energy_surface</th>\n",
       "      <td>5404746</td>\n",
       "      <td>438.2306865114475</td>\n",
       "      <td>897.6515247784479</td>\n",
       "      <td>0.0</td>\n",
       "      <td>7160.0</td>\n",
       "    </tr>\n",
       "    <tr>\n",
       "      <th>latent_heat_net_flux_surface</th>\n",
       "      <td>5404746</td>\n",
       "      <td>2500.6184335680923</td>\n",
       "      <td>49249.4854985616</td>\n",
       "      <td>-312.74902</td>\n",
       "      <td>1000000.1</td>\n",
       "    </tr>\n",
       "    <tr>\n",
       "      <th>surface_roughness_surface</th>\n",
       "      <td>5404746</td>\n",
       "      <td>0.4835673709972253</td>\n",
       "      <td>0.8124727164820038</td>\n",
       "      <td>1.5900003E-5</td>\n",
       "      <td>2.750016</td>\n",
       "    </tr>\n",
       "    <tr>\n",
       "      <th>pressure_maximum_wind</th>\n",
       "      <td>5404746</td>\n",
       "      <td>22274.72372442975</td>\n",
       "      <td>7195.950880387724</td>\n",
       "      <td>11120.641</td>\n",
       "      <td>50128.137</td>\n",
       "    </tr>\n",
       "    <tr>\n",
       "      <th>temperature_tropopause</th>\n",
       "      <td>5404746</td>\n",
       "      <td>210.0485875405655</td>\n",
       "      <td>9.712765499794848</td>\n",
       "      <td>184.60947</td>\n",
       "      <td>260.55334</td>\n",
       "    </tr>\n",
       "    <tr>\n",
       "      <th>geopotential_height_pblri</th>\n",
       "      <td>5404746</td>\n",
       "      <td>519.8203549129231</td>\n",
       "      <td>514.5360938361491</td>\n",
       "      <td>13.405798</td>\n",
       "      <td>5365.292</td>\n",
       "    </tr>\n",
       "    <tr>\n",
       "      <th>pressure_tropopause</th>\n",
       "      <td>5404746</td>\n",
       "      <td>18644.448375531134</td>\n",
       "      <td>7533.6550322862095</td>\n",
       "      <td>6653.1465</td>\n",
       "      <td>50103.297</td>\n",
       "    </tr>\n",
       "    <tr>\n",
       "      <th>snow_depth_surface</th>\n",
       "      <td>5404746</td>\n",
       "      <td>0.04093239791752018</td>\n",
       "      <td>0.1604498219265458</td>\n",
       "      <td>0.0</td>\n",
       "      <td>16.6472</td>\n",
       "    </tr>\n",
       "    <tr>\n",
       "      <th>v-component_of_wind_tropopause</th>\n",
       "      <td>5404746</td>\n",
       "      <td>-1.0471010074277476</td>\n",
       "      <td>15.223386704427272</td>\n",
       "      <td>-82.89194</td>\n",
       "      <td>93.44974</td>\n",
       "    </tr>\n",
       "    <tr>\n",
       "      <th>downward_short_wave_rad_flux_surface</th>\n",
       "      <td>5404746</td>\n",
       "      <td>190.75263160239342</td>\n",
       "      <td>284.80600793144123</td>\n",
       "      <td>0.0</td>\n",
       "      <td>1121.1039</td>\n",
       "    </tr>\n",
       "    <tr>\n",
       "      <th>u-component_of_wind_maximum_wind</th>\n",
       "      <td>5404746</td>\n",
       "      <td>22.554785519294896</td>\n",
       "      <td>19.08111300482152</td>\n",
       "      <td>-58.32428</td>\n",
       "      <td>121.24121</td>\n",
       "    </tr>\n",
       "    <tr>\n",
       "      <th>wilting_point_surface</th>\n",
       "      <td>5404746</td>\n",
       "      <td>0.03110594852291435</td>\n",
       "      <td>0.03738048413160396</td>\n",
       "      <td>0.0</td>\n",
       "      <td>0.13499999</td>\n",
       "    </tr>\n",
       "    <tr>\n",
       "      <th>precipitable_water_entire_atmosphere</th>\n",
       "      <td>5404746</td>\n",
       "      <td>21.60823007175919</td>\n",
       "      <td>14.04382022748144</td>\n",
       "      <td>0.41304374</td>\n",
       "      <td>96.56735</td>\n",
       "    </tr>\n",
       "    <tr>\n",
       "      <th>u-component_of_wind_pblri</th>\n",
       "      <td>5404746</td>\n",
       "      <td>0.23357512642210712</td>\n",
       "      <td>5.741888080300973</td>\n",
       "      <td>-63.288544</td>\n",
       "      <td>57.711456</td>\n",
       "    </tr>\n",
       "    <tr>\n",
       "      <th>direct_evaporation_cease_soil_moisture_surface</th>\n",
       "      <td>5404746</td>\n",
       "      <td>0.03110594852291435</td>\n",
       "      <td>0.03738048413160396</td>\n",
       "      <td>0.0</td>\n",
       "      <td>0.13499999</td>\n",
       "    </tr>\n",
       "  </tbody>\n",
       "</table>\n",
       "</div>"
      ],
      "text/plain": [
       "summary                                               count  \\\n",
       "Geohash                                             5404746   \n",
       "geopotential_height_lltw                            5404746   \n",
       "water_equiv_of_accum_snow_depth_surface             5404746   \n",
       "drag_coefficient_surface                            5404746   \n",
       "sensible_heat_net_flux_surface                      5404746   \n",
       "categorical_ice_pellets_yes1_no0_surface            5404746   \n",
       "visibility_surface                                  5404746   \n",
       "number_of_soil_layers_in_root_zone_surface          5404746   \n",
       "categorical_freezing_rain_yes1_no0_surface          5404746   \n",
       "pressure_reduced_to_msl_msl                         5404746   \n",
       "upward_short_wave_rad_flux_surface                  5404746   \n",
       "relative_humidity_zerodegc_isotherm                 5404746   \n",
       "categorical_snow_yes1_no0_surface                   5404746   \n",
       "u-component_of_wind_tropopause                      5404746   \n",
       "surface_wind_gust_surface                           5404746   \n",
       "total_cloud_cover_entire_atmosphere                 5404746   \n",
       "upward_long_wave_rad_flux_surface                   5404746   \n",
       "land_cover_land1_sea0_surface                       5404746   \n",
       "vegitation_type_as_in_sib_surface                   5404746   \n",
       "v-component_of_wind_pblri                           5404746   \n",
       "albedo_surface                                      5404746   \n",
       "lightning_surface                                   5404746   \n",
       "ice_cover_ice1_no_ice0_surface                      5404746   \n",
       "convective_inhibition_surface                       5404746   \n",
       "pressure_surface                                    5404746   \n",
       "transpiration_stress-onset_soil_moisture_surface    5404746   \n",
       "soil_porosity_surface                               5404746   \n",
       "vegetation_surface                                  5404746   \n",
       "categorical_rain_yes1_no0_surface                   5404746   \n",
       "downward_long_wave_rad_flux_surface                 5404746   \n",
       "planetary_boundary_layer_height_surface             5404746   \n",
       "soil_type_as_in_zobler_surface                      5404746   \n",
       "geopotential_height_cloud_base                      5404746   \n",
       "friction_velocity_surface                           5404746   \n",
       "maximumcomposite_radar_reflectivity_entire_atmo...  5404746   \n",
       "plant_canopy_surface_water_surface                  5404746   \n",
       "v-component_of_wind_maximum_wind                    5404746   \n",
       "geopotential_height_zerodegc_isotherm               5404746   \n",
       "mean_sea_level_pressure_nam_model_reduction_msl     5404746   \n",
       "temperature_surface                                 5404746   \n",
       "snow_cover_surface                                  5404746   \n",
       "geopotential_height_surface                         5404746   \n",
       "convective_available_potential_energy_surface       5404746   \n",
       "latent_heat_net_flux_surface                        5404746   \n",
       "surface_roughness_surface                           5404746   \n",
       "pressure_maximum_wind                               5404746   \n",
       "temperature_tropopause                              5404746   \n",
       "geopotential_height_pblri                           5404746   \n",
       "pressure_tropopause                                 5404746   \n",
       "snow_depth_surface                                  5404746   \n",
       "v-component_of_wind_tropopause                      5404746   \n",
       "downward_short_wave_rad_flux_surface                5404746   \n",
       "u-component_of_wind_maximum_wind                    5404746   \n",
       "wilting_point_surface                               5404746   \n",
       "precipitable_water_entire_atmosphere                5404746   \n",
       "u-component_of_wind_pblri                           5404746   \n",
       "direct_evaporation_cease_soil_moisture_surface      5404746   \n",
       "\n",
       "summary                                                                mean  \\\n",
       "Geohash                                                                None   \n",
       "geopotential_height_lltw                                  2141.460589701558   \n",
       "water_equiv_of_accum_snow_depth_surface                   8.035800387291186   \n",
       "drag_coefficient_surface                                0.15554024185410378   \n",
       "sensible_heat_net_flux_surface                            2460.591012176307   \n",
       "categorical_ice_pellets_yes1_no0_surface              3.0547226456155386E-4   \n",
       "visibility_surface                                       21715.863747615178   \n",
       "number_of_soil_layers_in_root_zone_surface               1.5996940466767542   \n",
       "categorical_freezing_rain_yes1_no0_surface             6.860636929098981E-4   \n",
       "pressure_reduced_to_msl_msl                              101574.21354343016   \n",
       "upward_short_wave_rad_flux_surface                         28.2053758189692   \n",
       "relative_humidity_zerodegc_isotherm                      52.952279718602874   \n",
       "categorical_snow_yes1_no0_surface                      0.027455684318930067   \n",
       "u-component_of_wind_tropopause                           17.582724318819597   \n",
       "surface_wind_gust_surface                                 6.847739082294098   \n",
       "total_cloud_cover_entire_atmosphere                 -2.43175966213815232E17   \n",
       "upward_long_wave_rad_flux_surface                        384.21388734234324   \n",
       "land_cover_land1_sea0_surface                           0.46817001205977116   \n",
       "vegitation_type_as_in_sib_surface                        3.4795825742782363   \n",
       "v-component_of_wind_pblri                              -0.14941441312262074   \n",
       "albedo_surface                                           15.875211110753401   \n",
       "lightning_surface                                       0.03504790049338119   \n",
       "ice_cover_ice1_no_ice0_surface                          0.02289247265273891   \n",
       "convective_inhibition_surface                           -11.585870085432866   \n",
       "pressure_surface                                          97921.93197108616   \n",
       "transpiration_stress-onset_soil_moisture_surface         0.1549934152875891   \n",
       "soil_porosity_surface                                   0.23408500602988558   \n",
       "vegetation_surface                                       15.446288548990092   \n",
       "categorical_rain_yes1_no0_surface                       0.08854384646383012   \n",
       "downward_long_wave_rad_flux_surface                      335.87168615582425   \n",
       "planetary_boundary_layer_height_surface                 -1075.3082378663123   \n",
       "soil_type_as_in_zobler_surface                            2.439781258915775   \n",
       "geopotential_height_cloud_base                           -362.3657659567715   \n",
       "friction_velocity_surface                                0.3284759805524842   \n",
       "maximumcomposite_radar_reflectivity_entire_atmo...       -7.287122246355333   \n",
       "plant_canopy_surface_water_surface                     0.060422839066438576   \n",
       "v-component_of_wind_maximum_wind                        -1.1453875962584352   \n",
       "geopotential_height_zerodegc_isotherm                     3092.661752293876   \n",
       "mean_sea_level_pressure_nam_model_reduction_msl          101541.29552693132   \n",
       "temperature_surface                                      287.31614237331695   \n",
       "snow_cover_surface                                       16.340825082251783   \n",
       "geopotential_height_surface                              321.18403584078413   \n",
       "convective_available_potential_energy_surface             438.2306865114475   \n",
       "latent_heat_net_flux_surface                             2500.6184335680923   \n",
       "surface_roughness_surface                                0.4835673709972253   \n",
       "pressure_maximum_wind                                     22274.72372442975   \n",
       "temperature_tropopause                                    210.0485875405655   \n",
       "geopotential_height_pblri                                 519.8203549129231   \n",
       "pressure_tropopause                                      18644.448375531134   \n",
       "snow_depth_surface                                      0.04093239791752018   \n",
       "v-component_of_wind_tropopause                          -1.0471010074277476   \n",
       "downward_short_wave_rad_flux_surface                     190.75263160239342   \n",
       "u-component_of_wind_maximum_wind                         22.554785519294896   \n",
       "wilting_point_surface                                   0.03110594852291435   \n",
       "precipitable_water_entire_atmosphere                      21.60823007175919   \n",
       "u-component_of_wind_pblri                               0.23357512642210712   \n",
       "direct_evaporation_cease_soil_moisture_surface          0.03110594852291435   \n",
       "\n",
       "summary                                                            stddev  \\\n",
       "Geohash                                                              None   \n",
       "geopotential_height_lltw                               1898.1221123819798   \n",
       "water_equiv_of_accum_snow_depth_surface                 37.34503968059668   \n",
       "drag_coefficient_surface                                39.85484170219889   \n",
       "sensible_heat_net_flux_surface                          49251.43240969251   \n",
       "categorical_ice_pellets_yes1_no0_surface              0.01747509678826262   \n",
       "visibility_surface                                      6142.599331655233   \n",
       "number_of_soil_layers_in_root_zone_surface             1.7434935950250698   \n",
       "categorical_freezing_rain_yes1_no0_surface           0.026183833492622318   \n",
       "pressure_reduced_to_msl_msl                             790.8951387654217   \n",
       "upward_short_wave_rad_flux_surface                     54.777193725341185   \n",
       "relative_humidity_zerodegc_isotherm                      31.9296029972151   \n",
       "categorical_snow_yes1_no0_surface                     0.16340708264319226   \n",
       "u-component_of_wind_tropopause                         16.734727665552164   \n",
       "surface_wind_gust_surface                                 4.4615172247444   \n",
       "total_cloud_cover_entire_atmosphere                 4.9252966090403953E18   \n",
       "upward_long_wave_rad_flux_surface                       70.95122269199486   \n",
       "land_cover_land1_sea0_surface                         0.49898586947519824   \n",
       "vegitation_type_as_in_sib_surface                       5.111687219984928   \n",
       "v-component_of_wind_pblri                               5.521963042003624   \n",
       "albedo_surface                                         15.431209368901943   \n",
       "lightning_surface                                     0.18390092827870047   \n",
       "ice_cover_ice1_no_ice0_surface                        0.14956072842575854   \n",
       "convective_inhibition_surface                           46.21815913426511   \n",
       "pressure_surface                                        6044.402231989399   \n",
       "transpiration_stress-onset_soil_moisture_surface      0.16673067708897651   \n",
       "soil_porosity_surface                                 0.24949293473759912   \n",
       "vegetation_surface                                     24.531123888080725   \n",
       "categorical_rain_yes1_no0_surface                     0.28408422808958095   \n",
       "downward_long_wave_rad_flux_surface                      71.9186147303611   \n",
       "planetary_boundary_layer_height_surface                 49332.54353623342   \n",
       "soil_type_as_in_zobler_surface                          3.185327619534309   \n",
       "geopotential_height_cloud_base                         3283.5747322968123   \n",
       "friction_velocity_surface                             0.22047062014074134   \n",
       "maximumcomposite_radar_reflectivity_entire_atmo...     15.900977849621071   \n",
       "plant_canopy_surface_water_surface                    0.14807230433527246   \n",
       "v-component_of_wind_maximum_wind                        18.98382475399417   \n",
       "geopotential_height_zerodegc_isotherm                    1753.14646588642   \n",
       "mean_sea_level_pressure_nam_model_reduction_msl         802.4057356789363   \n",
       "temperature_surface                                    14.097624763089943   \n",
       "snow_cover_surface                                      36.91038905317663   \n",
       "geopotential_height_surface                             549.8004201177374   \n",
       "convective_available_potential_energy_surface           897.6515247784479   \n",
       "latent_heat_net_flux_surface                             49249.4854985616   \n",
       "surface_roughness_surface                              0.8124727164820038   \n",
       "pressure_maximum_wind                                   7195.950880387724   \n",
       "temperature_tropopause                                  9.712765499794848   \n",
       "geopotential_height_pblri                               514.5360938361491   \n",
       "pressure_tropopause                                    7533.6550322862095   \n",
       "snow_depth_surface                                     0.1604498219265458   \n",
       "v-component_of_wind_tropopause                         15.223386704427272   \n",
       "downward_short_wave_rad_flux_surface                   284.80600793144123   \n",
       "u-component_of_wind_maximum_wind                        19.08111300482152   \n",
       "wilting_point_surface                                 0.03738048413160396   \n",
       "precipitable_water_entire_atmosphere                    14.04382022748144   \n",
       "u-component_of_wind_pblri                               5.741888080300973   \n",
       "direct_evaporation_cease_soil_moisture_surface        0.03738048413160396   \n",
       "\n",
       "summary                                                       min  \\\n",
       "Geohash                                              8gpfpw10qhzz   \n",
       "geopotential_height_lltw                               -8015.5312   \n",
       "water_equiv_of_accum_snow_depth_surface                       0.0   \n",
       "drag_coefficient_surface                                      0.0   \n",
       "sensible_heat_net_flux_surface                         -317.96582   \n",
       "categorical_ice_pellets_yes1_no0_surface                      0.0   \n",
       "visibility_surface                                      17.292929   \n",
       "number_of_soil_layers_in_root_zone_surface                    0.0   \n",
       "categorical_freezing_rain_yes1_no0_surface                    0.0   \n",
       "pressure_reduced_to_msl_msl                               94951.0   \n",
       "upward_short_wave_rad_flux_surface                            0.0   \n",
       "relative_humidity_zerodegc_isotherm                           1.0   \n",
       "categorical_snow_yes1_no0_surface                             0.0   \n",
       "u-component_of_wind_tropopause                         -55.355972   \n",
       "surface_wind_gust_surface                             0.001954686   \n",
       "total_cloud_cover_entire_atmosphere                 -1.0000036E20   \n",
       "upward_long_wave_rad_flux_surface                             0.0   \n",
       "land_cover_land1_sea0_surface                                 0.0   \n",
       "vegitation_type_as_in_sib_surface                             0.0   \n",
       "v-component_of_wind_pblri                              -54.292908   \n",
       "albedo_surface                                                6.0   \n",
       "lightning_surface                                             0.0   \n",
       "ice_cover_ice1_no_ice0_surface                                0.0   \n",
       "convective_inhibition_surface                          -1270.3417   \n",
       "pressure_surface                                          64793.0   \n",
       "transpiration_stress-onset_soil_moisture_surface              0.0   \n",
       "soil_porosity_surface                                         0.0   \n",
       "vegetation_surface                                            0.0   \n",
       "categorical_rain_yes1_no0_surface                             0.0   \n",
       "downward_long_wave_rad_flux_surface                           0.0   \n",
       "planetary_boundary_layer_height_surface                -1000000.0   \n",
       "soil_type_as_in_zobler_surface                                0.0   \n",
       "geopotential_height_cloud_base                            -5000.0   \n",
       "friction_velocity_surface                             7.477789E-5   \n",
       "maximumcomposite_radar_reflectivity_entire_atmo...          -20.0   \n",
       "plant_canopy_surface_water_surface                            0.0   \n",
       "v-component_of_wind_maximum_wind                         -91.0031   \n",
       "geopotential_height_zerodegc_isotherm                         0.0   \n",
       "mean_sea_level_pressure_nam_model_reduction_msl           94951.0   \n",
       "temperature_surface                                     219.74284   \n",
       "snow_cover_surface                                            0.0   \n",
       "geopotential_height_surface                             -73.92998   \n",
       "convective_available_potential_energy_surface                 0.0   \n",
       "latent_heat_net_flux_surface                           -312.74902   \n",
       "surface_roughness_surface                            1.5900003E-5   \n",
       "pressure_maximum_wind                                   11120.641   \n",
       "temperature_tropopause                                  184.60947   \n",
       "geopotential_height_pblri                               13.405798   \n",
       "pressure_tropopause                                     6653.1465   \n",
       "snow_depth_surface                                            0.0   \n",
       "v-component_of_wind_tropopause                          -82.89194   \n",
       "downward_short_wave_rad_flux_surface                          0.0   \n",
       "u-component_of_wind_maximum_wind                        -58.32428   \n",
       "wilting_point_surface                                         0.0   \n",
       "precipitable_water_entire_atmosphere                   0.41304374   \n",
       "u-component_of_wind_pblri                              -63.288544   \n",
       "direct_evaporation_cease_soil_moisture_surface                0.0   \n",
       "\n",
       "summary                                                      max  \n",
       "Geohash                                             ffhyjnk2fgtb  \n",
       "geopotential_height_lltw                               6202.4365  \n",
       "water_equiv_of_accum_snow_depth_surface                   5649.0  \n",
       "drag_coefficient_surface                                 48000.0  \n",
       "sensible_heat_net_flux_surface                         1000000.1  \n",
       "categorical_ice_pellets_yes1_no0_surface                     1.0  \n",
       "visibility_surface                                     24307.436  \n",
       "number_of_soil_layers_in_root_zone_surface                   4.0  \n",
       "categorical_freezing_rain_yes1_no0_surface                   1.0  \n",
       "pressure_reduced_to_msl_msl                             106272.0  \n",
       "upward_short_wave_rad_flux_surface                      740.6743  \n",
       "relative_humidity_zerodegc_isotherm                        100.0  \n",
       "categorical_snow_yes1_no0_surface                            1.0  \n",
       "u-component_of_wind_tropopause                         107.98924  \n",
       "surface_wind_gust_surface                               54.79795  \n",
       "total_cloud_cover_entire_atmosphere                        100.0  \n",
       "upward_long_wave_rad_flux_surface                       669.9768  \n",
       "land_cover_land1_sea0_surface                                1.0  \n",
       "vegitation_type_as_in_sib_surface                           19.0  \n",
       "v-component_of_wind_pblri                              56.326706  \n",
       "albedo_surface                                              80.0  \n",
       "lightning_surface                                            1.0  \n",
       "ice_cover_ice1_no_ice0_surface                               1.0  \n",
       "convective_inhibition_surface                          10.717163  \n",
       "pressure_surface                                        105153.0  \n",
       "transpiration_stress-onset_soil_moisture_surface           0.405  \n",
       "soil_porosity_surface                                        0.5  \n",
       "vegetation_surface                                          99.0  \n",
       "categorical_rain_yes1_no0_surface                            1.0  \n",
       "downward_long_wave_rad_flux_surface                     519.3325  \n",
       "planetary_boundary_layer_height_surface                  21114.0  \n",
       "soil_type_as_in_zobler_surface                              16.0  \n",
       "geopotential_height_cloud_base                           14267.0  \n",
       "friction_velocity_surface                              2.4386146  \n",
       "maximumcomposite_radar_reflectivity_entire_atmo...       52.8125  \n",
       "plant_canopy_surface_water_surface                           0.5  \n",
       "v-component_of_wind_maximum_wind                       106.09735  \n",
       "geopotential_height_zerodegc_isotherm                  6326.5522  \n",
       "mean_sea_level_pressure_nam_model_reduction_msl         106000.0  \n",
       "temperature_surface                                    329.73193  \n",
       "snow_cover_surface                                         100.0  \n",
       "geopotential_height_surface                              3576.32  \n",
       "convective_available_potential_energy_surface             7160.0  \n",
       "latent_heat_net_flux_surface                           1000000.1  \n",
       "surface_roughness_surface                               2.750016  \n",
       "pressure_maximum_wind                                  50128.137  \n",
       "temperature_tropopause                                 260.55334  \n",
       "geopotential_height_pblri                               5365.292  \n",
       "pressure_tropopause                                    50103.297  \n",
       "snow_depth_surface                                       16.6472  \n",
       "v-component_of_wind_tropopause                          93.44974  \n",
       "downward_short_wave_rad_flux_surface                   1121.1039  \n",
       "u-component_of_wind_maximum_wind                       121.24121  \n",
       "wilting_point_surface                                 0.13499999  \n",
       "precipitable_water_entire_atmosphere                    96.56735  \n",
       "u-component_of_wind_pblri                              57.711456  \n",
       "direct_evaporation_cease_soil_moisture_surface        0.13499999  "
      ]
     },
     "execution_count": 43,
     "metadata": {},
     "output_type": "execute_result"
    }
   ],
   "source": [
    "summary"
   ]
  },
  {
   "cell_type": "markdown",
   "metadata": {},
   "source": [
    "---\n",
    "\n",
    "**[2 pt]** Determine how features influence each other using Pearson’s correlation coefficient (PCC).\n",
    "\n",
    "The output for this job should include: \n",
    "1. feature pairs sorted by absolute correlation coefficient\n",
    "2. a correlation matrix visualization (heatmaps are a good option)."
   ]
  },
  {
   "cell_type": "code",
   "execution_count": 44,
   "metadata": {
    "collapsed": true
   },
   "outputs": [],
   "source": [
    "ftrs = df.rdd.map(lambda row : row[2:])"
   ]
  },
  {
   "cell_type": "code",
   "execution_count": 45,
   "metadata": {
    "collapsed": true
   },
   "outputs": [],
   "source": [
    "corr = stats.corr(ftrs, method=\"pearson\")"
   ]
  },
  {
   "cell_type": "code",
   "execution_count": 46,
   "metadata": {
    "collapsed": true
   },
   "outputs": [],
   "source": [
    "corr_pd_df = pd.DataFrame(corr, index=df.columns[2:], columns=df.columns[2:])"
   ]
  },
  {
   "cell_type": "code",
   "execution_count": 47,
   "metadata": {},
   "outputs": [
    {
     "data": {
      "text/html": [
       "<div>\n",
       "<style>\n",
       "    .dataframe thead tr:only-child th {\n",
       "        text-align: right;\n",
       "    }\n",
       "\n",
       "    .dataframe thead th {\n",
       "        text-align: left;\n",
       "    }\n",
       "\n",
       "    .dataframe tbody tr th {\n",
       "        vertical-align: top;\n",
       "    }\n",
       "</style>\n",
       "<table border=\"1\" class=\"dataframe\">\n",
       "  <thead>\n",
       "    <tr style=\"text-align: right;\">\n",
       "      <th></th>\n",
       "      <th>geopotential_height_lltw</th>\n",
       "      <th>water_equiv_of_accum_snow_depth_surface</th>\n",
       "      <th>drag_coefficient_surface</th>\n",
       "      <th>sensible_heat_net_flux_surface</th>\n",
       "      <th>categorical_ice_pellets_yes1_no0_surface</th>\n",
       "      <th>visibility_surface</th>\n",
       "      <th>number_of_soil_layers_in_root_zone_surface</th>\n",
       "      <th>categorical_freezing_rain_yes1_no0_surface</th>\n",
       "      <th>pressure_reduced_to_msl_msl</th>\n",
       "      <th>upward_short_wave_rad_flux_surface</th>\n",
       "      <th>...</th>\n",
       "      <th>geopotential_height_pblri</th>\n",
       "      <th>pressure_tropopause</th>\n",
       "      <th>snow_depth_surface</th>\n",
       "      <th>v-component_of_wind_tropopause</th>\n",
       "      <th>downward_short_wave_rad_flux_surface</th>\n",
       "      <th>u-component_of_wind_maximum_wind</th>\n",
       "      <th>wilting_point_surface</th>\n",
       "      <th>precipitable_water_entire_atmosphere</th>\n",
       "      <th>u-component_of_wind_pblri</th>\n",
       "      <th>direct_evaporation_cease_soil_moisture_surface</th>\n",
       "    </tr>\n",
       "  </thead>\n",
       "  <tbody>\n",
       "    <tr>\n",
       "      <th>geopotential_height_lltw</th>\n",
       "      <td>1.000000</td>\n",
       "      <td>-0.423721</td>\n",
       "      <td>0.001391</td>\n",
       "      <td>0.013413</td>\n",
       "      <td>-0.019764</td>\n",
       "      <td>0.200286</td>\n",
       "      <td>-0.227736</td>\n",
       "      <td>-0.025067</td>\n",
       "      <td>-0.156293</td>\n",
       "      <td>-0.032189</td>\n",
       "      <td>...</td>\n",
       "      <td>0.133789</td>\n",
       "      <td>-0.737011</td>\n",
       "      <td>-0.557844</td>\n",
       "      <td>0.115678</td>\n",
       "      <td>0.180488</td>\n",
       "      <td>-0.208513</td>\n",
       "      <td>-0.151631</td>\n",
       "      <td>0.754450</td>\n",
       "      <td>-0.278402</td>\n",
       "      <td>-0.151631</td>\n",
       "    </tr>\n",
       "    <tr>\n",
       "      <th>water_equiv_of_accum_snow_depth_surface</th>\n",
       "      <td>-0.423721</td>\n",
       "      <td>1.000000</td>\n",
       "      <td>-0.000521</td>\n",
       "      <td>-0.007169</td>\n",
       "      <td>0.005721</td>\n",
       "      <td>-0.231308</td>\n",
       "      <td>0.218166</td>\n",
       "      <td>0.015315</td>\n",
       "      <td>0.027023</td>\n",
       "      <td>0.077674</td>\n",
       "      <td>...</td>\n",
       "      <td>-0.104294</td>\n",
       "      <td>0.302176</td>\n",
       "      <td>0.888789</td>\n",
       "      <td>-0.015586</td>\n",
       "      <td>-0.070273</td>\n",
       "      <td>0.025700</td>\n",
       "      <td>0.132082</td>\n",
       "      <td>-0.257108</td>\n",
       "      <td>0.079912</td>\n",
       "      <td>0.132082</td>\n",
       "    </tr>\n",
       "    <tr>\n",
       "      <th>drag_coefficient_surface</th>\n",
       "      <td>0.001391</td>\n",
       "      <td>-0.000521</td>\n",
       "      <td>1.000000</td>\n",
       "      <td>-0.000180</td>\n",
       "      <td>-0.000059</td>\n",
       "      <td>0.000539</td>\n",
       "      <td>0.004662</td>\n",
       "      <td>0.000003</td>\n",
       "      <td>0.000423</td>\n",
       "      <td>0.004402</td>\n",
       "      <td>...</td>\n",
       "      <td>0.002689</td>\n",
       "      <td>-0.000361</td>\n",
       "      <td>-0.000634</td>\n",
       "      <td>0.000277</td>\n",
       "      <td>0.004277</td>\n",
       "      <td>-0.001256</td>\n",
       "      <td>0.003395</td>\n",
       "      <td>-0.000177</td>\n",
       "      <td>-0.000094</td>\n",
       "      <td>0.003395</td>\n",
       "    </tr>\n",
       "    <tr>\n",
       "      <th>sensible_heat_net_flux_surface</th>\n",
       "      <td>0.013413</td>\n",
       "      <td>-0.007169</td>\n",
       "      <td>-0.000180</td>\n",
       "      <td>1.000000</td>\n",
       "      <td>-0.000858</td>\n",
       "      <td>0.019504</td>\n",
       "      <td>-0.000329</td>\n",
       "      <td>-0.001306</td>\n",
       "      <td>0.006634</td>\n",
       "      <td>-0.024601</td>\n",
       "      <td>...</td>\n",
       "      <td>0.002697</td>\n",
       "      <td>-0.008762</td>\n",
       "      <td>-0.007964</td>\n",
       "      <td>0.001780</td>\n",
       "      <td>-0.032305</td>\n",
       "      <td>-0.013416</td>\n",
       "      <td>0.000045</td>\n",
       "      <td>0.015288</td>\n",
       "      <td>-0.005332</td>\n",
       "      <td>0.000045</td>\n",
       "    </tr>\n",
       "    <tr>\n",
       "      <th>categorical_ice_pellets_yes1_no0_surface</th>\n",
       "      <td>-0.019764</td>\n",
       "      <td>0.005721</td>\n",
       "      <td>-0.000059</td>\n",
       "      <td>-0.000858</td>\n",
       "      <td>1.000000</td>\n",
       "      <td>-0.045931</td>\n",
       "      <td>0.014774</td>\n",
       "      <td>-0.000458</td>\n",
       "      <td>-0.001613</td>\n",
       "      <td>-0.003818</td>\n",
       "      <td>...</td>\n",
       "      <td>-0.002696</td>\n",
       "      <td>0.004869</td>\n",
       "      <td>0.008300</td>\n",
       "      <td>0.017889</td>\n",
       "      <td>-0.009326</td>\n",
       "      <td>0.018143</td>\n",
       "      <td>0.013103</td>\n",
       "      <td>-0.004342</td>\n",
       "      <td>-0.018436</td>\n",
       "      <td>0.013103</td>\n",
       "    </tr>\n",
       "  </tbody>\n",
       "</table>\n",
       "<p>5 rows × 56 columns</p>\n",
       "</div>"
      ],
      "text/plain": [
       "                                          geopotential_height_lltw  \\\n",
       "geopotential_height_lltw                                  1.000000   \n",
       "water_equiv_of_accum_snow_depth_surface                  -0.423721   \n",
       "drag_coefficient_surface                                  0.001391   \n",
       "sensible_heat_net_flux_surface                            0.013413   \n",
       "categorical_ice_pellets_yes1_no0_surface                 -0.019764   \n",
       "\n",
       "                                          water_equiv_of_accum_snow_depth_surface  \\\n",
       "geopotential_height_lltw                                                -0.423721   \n",
       "water_equiv_of_accum_snow_depth_surface                                  1.000000   \n",
       "drag_coefficient_surface                                                -0.000521   \n",
       "sensible_heat_net_flux_surface                                          -0.007169   \n",
       "categorical_ice_pellets_yes1_no0_surface                                 0.005721   \n",
       "\n",
       "                                          drag_coefficient_surface  \\\n",
       "geopotential_height_lltw                                  0.001391   \n",
       "water_equiv_of_accum_snow_depth_surface                  -0.000521   \n",
       "drag_coefficient_surface                                  1.000000   \n",
       "sensible_heat_net_flux_surface                           -0.000180   \n",
       "categorical_ice_pellets_yes1_no0_surface                 -0.000059   \n",
       "\n",
       "                                          sensible_heat_net_flux_surface  \\\n",
       "geopotential_height_lltw                                        0.013413   \n",
       "water_equiv_of_accum_snow_depth_surface                        -0.007169   \n",
       "drag_coefficient_surface                                       -0.000180   \n",
       "sensible_heat_net_flux_surface                                  1.000000   \n",
       "categorical_ice_pellets_yes1_no0_surface                       -0.000858   \n",
       "\n",
       "                                          categorical_ice_pellets_yes1_no0_surface  \\\n",
       "geopotential_height_lltw                                                 -0.019764   \n",
       "water_equiv_of_accum_snow_depth_surface                                   0.005721   \n",
       "drag_coefficient_surface                                                 -0.000059   \n",
       "sensible_heat_net_flux_surface                                           -0.000858   \n",
       "categorical_ice_pellets_yes1_no0_surface                                  1.000000   \n",
       "\n",
       "                                          visibility_surface  \\\n",
       "geopotential_height_lltw                            0.200286   \n",
       "water_equiv_of_accum_snow_depth_surface            -0.231308   \n",
       "drag_coefficient_surface                            0.000539   \n",
       "sensible_heat_net_flux_surface                      0.019504   \n",
       "categorical_ice_pellets_yes1_no0_surface           -0.045931   \n",
       "\n",
       "                                          number_of_soil_layers_in_root_zone_surface  \\\n",
       "geopotential_height_lltw                                                   -0.227736   \n",
       "water_equiv_of_accum_snow_depth_surface                                     0.218166   \n",
       "drag_coefficient_surface                                                    0.004662   \n",
       "sensible_heat_net_flux_surface                                             -0.000329   \n",
       "categorical_ice_pellets_yes1_no0_surface                                    0.014774   \n",
       "\n",
       "                                          categorical_freezing_rain_yes1_no0_surface  \\\n",
       "geopotential_height_lltw                                                   -0.025067   \n",
       "water_equiv_of_accum_snow_depth_surface                                     0.015315   \n",
       "drag_coefficient_surface                                                    0.000003   \n",
       "sensible_heat_net_flux_surface                                             -0.001306   \n",
       "categorical_ice_pellets_yes1_no0_surface                                   -0.000458   \n",
       "\n",
       "                                          pressure_reduced_to_msl_msl  \\\n",
       "geopotential_height_lltw                                    -0.156293   \n",
       "water_equiv_of_accum_snow_depth_surface                      0.027023   \n",
       "drag_coefficient_surface                                     0.000423   \n",
       "sensible_heat_net_flux_surface                               0.006634   \n",
       "categorical_ice_pellets_yes1_no0_surface                    -0.001613   \n",
       "\n",
       "                                          upward_short_wave_rad_flux_surface  \\\n",
       "geopotential_height_lltw                                           -0.032189   \n",
       "water_equiv_of_accum_snow_depth_surface                             0.077674   \n",
       "drag_coefficient_surface                                            0.004402   \n",
       "sensible_heat_net_flux_surface                                     -0.024601   \n",
       "categorical_ice_pellets_yes1_no0_surface                           -0.003818   \n",
       "\n",
       "                                                               ...                        \\\n",
       "geopotential_height_lltw                                       ...                         \n",
       "water_equiv_of_accum_snow_depth_surface                        ...                         \n",
       "drag_coefficient_surface                                       ...                         \n",
       "sensible_heat_net_flux_surface                                 ...                         \n",
       "categorical_ice_pellets_yes1_no0_surface                       ...                         \n",
       "\n",
       "                                          geopotential_height_pblri  \\\n",
       "geopotential_height_lltw                                   0.133789   \n",
       "water_equiv_of_accum_snow_depth_surface                   -0.104294   \n",
       "drag_coefficient_surface                                   0.002689   \n",
       "sensible_heat_net_flux_surface                             0.002697   \n",
       "categorical_ice_pellets_yes1_no0_surface                  -0.002696   \n",
       "\n",
       "                                          pressure_tropopause  \\\n",
       "geopotential_height_lltw                            -0.737011   \n",
       "water_equiv_of_accum_snow_depth_surface              0.302176   \n",
       "drag_coefficient_surface                            -0.000361   \n",
       "sensible_heat_net_flux_surface                      -0.008762   \n",
       "categorical_ice_pellets_yes1_no0_surface             0.004869   \n",
       "\n",
       "                                          snow_depth_surface  \\\n",
       "geopotential_height_lltw                           -0.557844   \n",
       "water_equiv_of_accum_snow_depth_surface             0.888789   \n",
       "drag_coefficient_surface                           -0.000634   \n",
       "sensible_heat_net_flux_surface                     -0.007964   \n",
       "categorical_ice_pellets_yes1_no0_surface            0.008300   \n",
       "\n",
       "                                          v-component_of_wind_tropopause  \\\n",
       "geopotential_height_lltw                                        0.115678   \n",
       "water_equiv_of_accum_snow_depth_surface                        -0.015586   \n",
       "drag_coefficient_surface                                        0.000277   \n",
       "sensible_heat_net_flux_surface                                  0.001780   \n",
       "categorical_ice_pellets_yes1_no0_surface                        0.017889   \n",
       "\n",
       "                                          downward_short_wave_rad_flux_surface  \\\n",
       "geopotential_height_lltw                                              0.180488   \n",
       "water_equiv_of_accum_snow_depth_surface                              -0.070273   \n",
       "drag_coefficient_surface                                              0.004277   \n",
       "sensible_heat_net_flux_surface                                       -0.032305   \n",
       "categorical_ice_pellets_yes1_no0_surface                             -0.009326   \n",
       "\n",
       "                                          u-component_of_wind_maximum_wind  \\\n",
       "geopotential_height_lltw                                         -0.208513   \n",
       "water_equiv_of_accum_snow_depth_surface                           0.025700   \n",
       "drag_coefficient_surface                                         -0.001256   \n",
       "sensible_heat_net_flux_surface                                   -0.013416   \n",
       "categorical_ice_pellets_yes1_no0_surface                          0.018143   \n",
       "\n",
       "                                          wilting_point_surface  \\\n",
       "geopotential_height_lltw                              -0.151631   \n",
       "water_equiv_of_accum_snow_depth_surface                0.132082   \n",
       "drag_coefficient_surface                               0.003395   \n",
       "sensible_heat_net_flux_surface                         0.000045   \n",
       "categorical_ice_pellets_yes1_no0_surface               0.013103   \n",
       "\n",
       "                                          precipitable_water_entire_atmosphere  \\\n",
       "geopotential_height_lltw                                              0.754450   \n",
       "water_equiv_of_accum_snow_depth_surface                              -0.257108   \n",
       "drag_coefficient_surface                                             -0.000177   \n",
       "sensible_heat_net_flux_surface                                        0.015288   \n",
       "categorical_ice_pellets_yes1_no0_surface                             -0.004342   \n",
       "\n",
       "                                          u-component_of_wind_pblri  \\\n",
       "geopotential_height_lltw                                  -0.278402   \n",
       "water_equiv_of_accum_snow_depth_surface                    0.079912   \n",
       "drag_coefficient_surface                                  -0.000094   \n",
       "sensible_heat_net_flux_surface                            -0.005332   \n",
       "categorical_ice_pellets_yes1_no0_surface                  -0.018436   \n",
       "\n",
       "                                          direct_evaporation_cease_soil_moisture_surface  \n",
       "geopotential_height_lltw                                                       -0.151631  \n",
       "water_equiv_of_accum_snow_depth_surface                                         0.132082  \n",
       "drag_coefficient_surface                                                        0.003395  \n",
       "sensible_heat_net_flux_surface                                                  0.000045  \n",
       "categorical_ice_pellets_yes1_no0_surface                                        0.013103  \n",
       "\n",
       "[5 rows x 56 columns]"
      ]
     },
     "execution_count": 47,
     "metadata": {},
     "output_type": "execute_result"
    }
   ],
   "source": [
    "corr_pd_df.head()"
   ]
  },
  {
   "cell_type": "code",
   "execution_count": 48,
   "metadata": {},
   "outputs": [],
   "source": [
    "# corr_pd_df.dtypes"
   ]
  },
  {
   "cell_type": "code",
   "execution_count": 49,
   "metadata": {
    "collapsed": true
   },
   "outputs": [],
   "source": [
    "corr_pd_df = corr_pd_df.astype(float)"
   ]
  },
  {
   "cell_type": "markdown",
   "metadata": {},
   "source": [
    "1.) Feature Pairs sorted by absolute correlation coefficient"
   ]
  },
  {
   "cell_type": "code",
   "execution_count": 50,
   "metadata": {
    "collapsed": true
   },
   "outputs": [],
   "source": [
    "corr_df = corr_pd_df.reset_index()"
   ]
  },
  {
   "cell_type": "code",
   "execution_count": 51,
   "metadata": {
    "collapsed": true
   },
   "outputs": [],
   "source": [
    "ftr_pairs = corr_df.melt(id_vars=['index'])\n",
    "ftr_pairs.rename(columns={'index': 'ftr1', 'variable': 'ftr2', 'value': 'corr'}, inplace=True)\n",
    "ftr_pairs.sort_values(by='corr', ascending=False, inplace=True)"
   ]
  },
  {
   "cell_type": "code",
   "execution_count": 52,
   "metadata": {
    "scrolled": true
   },
   "outputs": [
    {
     "data": {
      "text/html": [
       "<div>\n",
       "<style>\n",
       "    .dataframe thead tr:only-child th {\n",
       "        text-align: right;\n",
       "    }\n",
       "\n",
       "    .dataframe thead th {\n",
       "        text-align: left;\n",
       "    }\n",
       "\n",
       "    .dataframe tbody tr th {\n",
       "        vertical-align: top;\n",
       "    }\n",
       "</style>\n",
       "<table border=\"1\" class=\"dataframe\">\n",
       "  <thead>\n",
       "    <tr style=\"text-align: right;\">\n",
       "      <th></th>\n",
       "      <th>ftr1</th>\n",
       "      <th>ftr2</th>\n",
       "      <th>corr</th>\n",
       "    </tr>\n",
       "  </thead>\n",
       "  <tbody>\n",
       "    <tr>\n",
       "      <th>0</th>\n",
       "      <td>geopotential_height_lltw</td>\n",
       "      <td>geopotential_height_lltw</td>\n",
       "      <td>1.0</td>\n",
       "    </tr>\n",
       "    <tr>\n",
       "      <th>855</th>\n",
       "      <td>upward_long_wave_rad_flux_surface</td>\n",
       "      <td>upward_long_wave_rad_flux_surface</td>\n",
       "      <td>1.0</td>\n",
       "    </tr>\n",
       "    <tr>\n",
       "      <th>1482</th>\n",
       "      <td>vegetation_surface</td>\n",
       "      <td>vegetation_surface</td>\n",
       "      <td>1.0</td>\n",
       "    </tr>\n",
       "    <tr>\n",
       "      <th>1425</th>\n",
       "      <td>soil_porosity_surface</td>\n",
       "      <td>soil_porosity_surface</td>\n",
       "      <td>1.0</td>\n",
       "    </tr>\n",
       "    <tr>\n",
       "      <th>1368</th>\n",
       "      <td>transpiration_stress-onset_soil_moisture_surface</td>\n",
       "      <td>transpiration_stress-onset_soil_moisture_surface</td>\n",
       "      <td>1.0</td>\n",
       "    </tr>\n",
       "    <tr>\n",
       "      <th>1311</th>\n",
       "      <td>pressure_surface</td>\n",
       "      <td>pressure_surface</td>\n",
       "      <td>1.0</td>\n",
       "    </tr>\n",
       "    <tr>\n",
       "      <th>1254</th>\n",
       "      <td>convective_inhibition_surface</td>\n",
       "      <td>convective_inhibition_surface</td>\n",
       "      <td>1.0</td>\n",
       "    </tr>\n",
       "    <tr>\n",
       "      <th>1197</th>\n",
       "      <td>ice_cover_ice1_no_ice0_surface</td>\n",
       "      <td>ice_cover_ice1_no_ice0_surface</td>\n",
       "      <td>1.0</td>\n",
       "    </tr>\n",
       "    <tr>\n",
       "      <th>1140</th>\n",
       "      <td>lightning_surface</td>\n",
       "      <td>lightning_surface</td>\n",
       "      <td>1.0</td>\n",
       "    </tr>\n",
       "    <tr>\n",
       "      <th>1083</th>\n",
       "      <td>albedo_surface</td>\n",
       "      <td>albedo_surface</td>\n",
       "      <td>1.0</td>\n",
       "    </tr>\n",
       "  </tbody>\n",
       "</table>\n",
       "</div>"
      ],
      "text/plain": [
       "                                                  ftr1  \\\n",
       "0                             geopotential_height_lltw   \n",
       "855                  upward_long_wave_rad_flux_surface   \n",
       "1482                                vegetation_surface   \n",
       "1425                             soil_porosity_surface   \n",
       "1368  transpiration_stress-onset_soil_moisture_surface   \n",
       "1311                                  pressure_surface   \n",
       "1254                     convective_inhibition_surface   \n",
       "1197                    ice_cover_ice1_no_ice0_surface   \n",
       "1140                                 lightning_surface   \n",
       "1083                                    albedo_surface   \n",
       "\n",
       "                                                  ftr2  corr  \n",
       "0                             geopotential_height_lltw   1.0  \n",
       "855                  upward_long_wave_rad_flux_surface   1.0  \n",
       "1482                                vegetation_surface   1.0  \n",
       "1425                             soil_porosity_surface   1.0  \n",
       "1368  transpiration_stress-onset_soil_moisture_surface   1.0  \n",
       "1311                                  pressure_surface   1.0  \n",
       "1254                     convective_inhibition_surface   1.0  \n",
       "1197                    ice_cover_ice1_no_ice0_surface   1.0  \n",
       "1140                                 lightning_surface   1.0  \n",
       "1083                                    albedo_surface   1.0  "
      ]
     },
     "execution_count": 52,
     "metadata": {},
     "output_type": "execute_result"
    }
   ],
   "source": [
    "ftr_pairs.head(10)"
   ]
  },
  {
   "cell_type": "code",
   "execution_count": 53,
   "metadata": {},
   "outputs": [
    {
     "data": {
      "text/html": [
       "<div>\n",
       "<style>\n",
       "    .dataframe thead tr:only-child th {\n",
       "        text-align: right;\n",
       "    }\n",
       "\n",
       "    .dataframe thead th {\n",
       "        text-align: left;\n",
       "    }\n",
       "\n",
       "    .dataframe tbody tr th {\n",
       "        vertical-align: top;\n",
       "    }\n",
       "</style>\n",
       "<table border=\"1\" class=\"dataframe\">\n",
       "  <thead>\n",
       "    <tr style=\"text-align: right;\">\n",
       "      <th></th>\n",
       "      <th>geopotential_height_lltw</th>\n",
       "      <th>water_equiv_of_accum_snow_depth_surface</th>\n",
       "      <th>drag_coefficient_surface</th>\n",
       "      <th>sensible_heat_net_flux_surface</th>\n",
       "      <th>categorical_ice_pellets_yes1_no0_surface</th>\n",
       "      <th>visibility_surface</th>\n",
       "      <th>number_of_soil_layers_in_root_zone_surface</th>\n",
       "      <th>categorical_freezing_rain_yes1_no0_surface</th>\n",
       "      <th>pressure_reduced_to_msl_msl</th>\n",
       "      <th>upward_short_wave_rad_flux_surface</th>\n",
       "      <th>...</th>\n",
       "      <th>geopotential_height_pblri</th>\n",
       "      <th>pressure_tropopause</th>\n",
       "      <th>snow_depth_surface</th>\n",
       "      <th>v-component_of_wind_tropopause</th>\n",
       "      <th>downward_short_wave_rad_flux_surface</th>\n",
       "      <th>u-component_of_wind_maximum_wind</th>\n",
       "      <th>wilting_point_surface</th>\n",
       "      <th>precipitable_water_entire_atmosphere</th>\n",
       "      <th>u-component_of_wind_pblri</th>\n",
       "      <th>direct_evaporation_cease_soil_moisture_surface</th>\n",
       "    </tr>\n",
       "  </thead>\n",
       "  <tbody>\n",
       "    <tr>\n",
       "      <th>geopotential_height_lltw</th>\n",
       "      <td>1.000000</td>\n",
       "      <td>-0.423721</td>\n",
       "      <td>0.001391</td>\n",
       "      <td>0.013413</td>\n",
       "      <td>-0.019764</td>\n",
       "      <td>0.200286</td>\n",
       "      <td>-0.227736</td>\n",
       "      <td>-0.025067</td>\n",
       "      <td>-0.156293</td>\n",
       "      <td>-0.032189</td>\n",
       "      <td>...</td>\n",
       "      <td>0.133789</td>\n",
       "      <td>-0.737011</td>\n",
       "      <td>-0.557844</td>\n",
       "      <td>0.115678</td>\n",
       "      <td>0.180488</td>\n",
       "      <td>-0.208513</td>\n",
       "      <td>-0.151631</td>\n",
       "      <td>0.754450</td>\n",
       "      <td>-0.278402</td>\n",
       "      <td>-0.151631</td>\n",
       "    </tr>\n",
       "    <tr>\n",
       "      <th>water_equiv_of_accum_snow_depth_surface</th>\n",
       "      <td>-0.423721</td>\n",
       "      <td>1.000000</td>\n",
       "      <td>-0.000521</td>\n",
       "      <td>-0.007169</td>\n",
       "      <td>0.005721</td>\n",
       "      <td>-0.231308</td>\n",
       "      <td>0.218166</td>\n",
       "      <td>0.015315</td>\n",
       "      <td>0.027023</td>\n",
       "      <td>0.077674</td>\n",
       "      <td>...</td>\n",
       "      <td>-0.104294</td>\n",
       "      <td>0.302176</td>\n",
       "      <td>0.888789</td>\n",
       "      <td>-0.015586</td>\n",
       "      <td>-0.070273</td>\n",
       "      <td>0.025700</td>\n",
       "      <td>0.132082</td>\n",
       "      <td>-0.257108</td>\n",
       "      <td>0.079912</td>\n",
       "      <td>0.132082</td>\n",
       "    </tr>\n",
       "    <tr>\n",
       "      <th>drag_coefficient_surface</th>\n",
       "      <td>0.001391</td>\n",
       "      <td>-0.000521</td>\n",
       "      <td>1.000000</td>\n",
       "      <td>-0.000180</td>\n",
       "      <td>-0.000059</td>\n",
       "      <td>0.000539</td>\n",
       "      <td>0.004662</td>\n",
       "      <td>0.000003</td>\n",
       "      <td>0.000423</td>\n",
       "      <td>0.004402</td>\n",
       "      <td>...</td>\n",
       "      <td>0.002689</td>\n",
       "      <td>-0.000361</td>\n",
       "      <td>-0.000634</td>\n",
       "      <td>0.000277</td>\n",
       "      <td>0.004277</td>\n",
       "      <td>-0.001256</td>\n",
       "      <td>0.003395</td>\n",
       "      <td>-0.000177</td>\n",
       "      <td>-0.000094</td>\n",
       "      <td>0.003395</td>\n",
       "    </tr>\n",
       "    <tr>\n",
       "      <th>sensible_heat_net_flux_surface</th>\n",
       "      <td>0.013413</td>\n",
       "      <td>-0.007169</td>\n",
       "      <td>-0.000180</td>\n",
       "      <td>1.000000</td>\n",
       "      <td>-0.000858</td>\n",
       "      <td>0.019504</td>\n",
       "      <td>-0.000329</td>\n",
       "      <td>-0.001306</td>\n",
       "      <td>0.006634</td>\n",
       "      <td>-0.024601</td>\n",
       "      <td>...</td>\n",
       "      <td>0.002697</td>\n",
       "      <td>-0.008762</td>\n",
       "      <td>-0.007964</td>\n",
       "      <td>0.001780</td>\n",
       "      <td>-0.032305</td>\n",
       "      <td>-0.013416</td>\n",
       "      <td>0.000045</td>\n",
       "      <td>0.015288</td>\n",
       "      <td>-0.005332</td>\n",
       "      <td>0.000045</td>\n",
       "    </tr>\n",
       "    <tr>\n",
       "      <th>categorical_ice_pellets_yes1_no0_surface</th>\n",
       "      <td>-0.019764</td>\n",
       "      <td>0.005721</td>\n",
       "      <td>-0.000059</td>\n",
       "      <td>-0.000858</td>\n",
       "      <td>1.000000</td>\n",
       "      <td>-0.045931</td>\n",
       "      <td>0.014774</td>\n",
       "      <td>-0.000458</td>\n",
       "      <td>-0.001613</td>\n",
       "      <td>-0.003818</td>\n",
       "      <td>...</td>\n",
       "      <td>-0.002696</td>\n",
       "      <td>0.004869</td>\n",
       "      <td>0.008300</td>\n",
       "      <td>0.017889</td>\n",
       "      <td>-0.009326</td>\n",
       "      <td>0.018143</td>\n",
       "      <td>0.013103</td>\n",
       "      <td>-0.004342</td>\n",
       "      <td>-0.018436</td>\n",
       "      <td>0.013103</td>\n",
       "    </tr>\n",
       "  </tbody>\n",
       "</table>\n",
       "<p>5 rows × 56 columns</p>\n",
       "</div>"
      ],
      "text/plain": [
       "                                          geopotential_height_lltw  \\\n",
       "geopotential_height_lltw                                  1.000000   \n",
       "water_equiv_of_accum_snow_depth_surface                  -0.423721   \n",
       "drag_coefficient_surface                                  0.001391   \n",
       "sensible_heat_net_flux_surface                            0.013413   \n",
       "categorical_ice_pellets_yes1_no0_surface                 -0.019764   \n",
       "\n",
       "                                          water_equiv_of_accum_snow_depth_surface  \\\n",
       "geopotential_height_lltw                                                -0.423721   \n",
       "water_equiv_of_accum_snow_depth_surface                                  1.000000   \n",
       "drag_coefficient_surface                                                -0.000521   \n",
       "sensible_heat_net_flux_surface                                          -0.007169   \n",
       "categorical_ice_pellets_yes1_no0_surface                                 0.005721   \n",
       "\n",
       "                                          drag_coefficient_surface  \\\n",
       "geopotential_height_lltw                                  0.001391   \n",
       "water_equiv_of_accum_snow_depth_surface                  -0.000521   \n",
       "drag_coefficient_surface                                  1.000000   \n",
       "sensible_heat_net_flux_surface                           -0.000180   \n",
       "categorical_ice_pellets_yes1_no0_surface                 -0.000059   \n",
       "\n",
       "                                          sensible_heat_net_flux_surface  \\\n",
       "geopotential_height_lltw                                        0.013413   \n",
       "water_equiv_of_accum_snow_depth_surface                        -0.007169   \n",
       "drag_coefficient_surface                                       -0.000180   \n",
       "sensible_heat_net_flux_surface                                  1.000000   \n",
       "categorical_ice_pellets_yes1_no0_surface                       -0.000858   \n",
       "\n",
       "                                          categorical_ice_pellets_yes1_no0_surface  \\\n",
       "geopotential_height_lltw                                                 -0.019764   \n",
       "water_equiv_of_accum_snow_depth_surface                                   0.005721   \n",
       "drag_coefficient_surface                                                 -0.000059   \n",
       "sensible_heat_net_flux_surface                                           -0.000858   \n",
       "categorical_ice_pellets_yes1_no0_surface                                  1.000000   \n",
       "\n",
       "                                          visibility_surface  \\\n",
       "geopotential_height_lltw                            0.200286   \n",
       "water_equiv_of_accum_snow_depth_surface            -0.231308   \n",
       "drag_coefficient_surface                            0.000539   \n",
       "sensible_heat_net_flux_surface                      0.019504   \n",
       "categorical_ice_pellets_yes1_no0_surface           -0.045931   \n",
       "\n",
       "                                          number_of_soil_layers_in_root_zone_surface  \\\n",
       "geopotential_height_lltw                                                   -0.227736   \n",
       "water_equiv_of_accum_snow_depth_surface                                     0.218166   \n",
       "drag_coefficient_surface                                                    0.004662   \n",
       "sensible_heat_net_flux_surface                                             -0.000329   \n",
       "categorical_ice_pellets_yes1_no0_surface                                    0.014774   \n",
       "\n",
       "                                          categorical_freezing_rain_yes1_no0_surface  \\\n",
       "geopotential_height_lltw                                                   -0.025067   \n",
       "water_equiv_of_accum_snow_depth_surface                                     0.015315   \n",
       "drag_coefficient_surface                                                    0.000003   \n",
       "sensible_heat_net_flux_surface                                             -0.001306   \n",
       "categorical_ice_pellets_yes1_no0_surface                                   -0.000458   \n",
       "\n",
       "                                          pressure_reduced_to_msl_msl  \\\n",
       "geopotential_height_lltw                                    -0.156293   \n",
       "water_equiv_of_accum_snow_depth_surface                      0.027023   \n",
       "drag_coefficient_surface                                     0.000423   \n",
       "sensible_heat_net_flux_surface                               0.006634   \n",
       "categorical_ice_pellets_yes1_no0_surface                    -0.001613   \n",
       "\n",
       "                                          upward_short_wave_rad_flux_surface  \\\n",
       "geopotential_height_lltw                                           -0.032189   \n",
       "water_equiv_of_accum_snow_depth_surface                             0.077674   \n",
       "drag_coefficient_surface                                            0.004402   \n",
       "sensible_heat_net_flux_surface                                     -0.024601   \n",
       "categorical_ice_pellets_yes1_no0_surface                           -0.003818   \n",
       "\n",
       "                                                               ...                        \\\n",
       "geopotential_height_lltw                                       ...                         \n",
       "water_equiv_of_accum_snow_depth_surface                        ...                         \n",
       "drag_coefficient_surface                                       ...                         \n",
       "sensible_heat_net_flux_surface                                 ...                         \n",
       "categorical_ice_pellets_yes1_no0_surface                       ...                         \n",
       "\n",
       "                                          geopotential_height_pblri  \\\n",
       "geopotential_height_lltw                                   0.133789   \n",
       "water_equiv_of_accum_snow_depth_surface                   -0.104294   \n",
       "drag_coefficient_surface                                   0.002689   \n",
       "sensible_heat_net_flux_surface                             0.002697   \n",
       "categorical_ice_pellets_yes1_no0_surface                  -0.002696   \n",
       "\n",
       "                                          pressure_tropopause  \\\n",
       "geopotential_height_lltw                            -0.737011   \n",
       "water_equiv_of_accum_snow_depth_surface              0.302176   \n",
       "drag_coefficient_surface                            -0.000361   \n",
       "sensible_heat_net_flux_surface                      -0.008762   \n",
       "categorical_ice_pellets_yes1_no0_surface             0.004869   \n",
       "\n",
       "                                          snow_depth_surface  \\\n",
       "geopotential_height_lltw                           -0.557844   \n",
       "water_equiv_of_accum_snow_depth_surface             0.888789   \n",
       "drag_coefficient_surface                           -0.000634   \n",
       "sensible_heat_net_flux_surface                     -0.007964   \n",
       "categorical_ice_pellets_yes1_no0_surface            0.008300   \n",
       "\n",
       "                                          v-component_of_wind_tropopause  \\\n",
       "geopotential_height_lltw                                        0.115678   \n",
       "water_equiv_of_accum_snow_depth_surface                        -0.015586   \n",
       "drag_coefficient_surface                                        0.000277   \n",
       "sensible_heat_net_flux_surface                                  0.001780   \n",
       "categorical_ice_pellets_yes1_no0_surface                        0.017889   \n",
       "\n",
       "                                          downward_short_wave_rad_flux_surface  \\\n",
       "geopotential_height_lltw                                              0.180488   \n",
       "water_equiv_of_accum_snow_depth_surface                              -0.070273   \n",
       "drag_coefficient_surface                                              0.004277   \n",
       "sensible_heat_net_flux_surface                                       -0.032305   \n",
       "categorical_ice_pellets_yes1_no0_surface                             -0.009326   \n",
       "\n",
       "                                          u-component_of_wind_maximum_wind  \\\n",
       "geopotential_height_lltw                                         -0.208513   \n",
       "water_equiv_of_accum_snow_depth_surface                           0.025700   \n",
       "drag_coefficient_surface                                         -0.001256   \n",
       "sensible_heat_net_flux_surface                                   -0.013416   \n",
       "categorical_ice_pellets_yes1_no0_surface                          0.018143   \n",
       "\n",
       "                                          wilting_point_surface  \\\n",
       "geopotential_height_lltw                              -0.151631   \n",
       "water_equiv_of_accum_snow_depth_surface                0.132082   \n",
       "drag_coefficient_surface                               0.003395   \n",
       "sensible_heat_net_flux_surface                         0.000045   \n",
       "categorical_ice_pellets_yes1_no0_surface               0.013103   \n",
       "\n",
       "                                          precipitable_water_entire_atmosphere  \\\n",
       "geopotential_height_lltw                                              0.754450   \n",
       "water_equiv_of_accum_snow_depth_surface                              -0.257108   \n",
       "drag_coefficient_surface                                             -0.000177   \n",
       "sensible_heat_net_flux_surface                                        0.015288   \n",
       "categorical_ice_pellets_yes1_no0_surface                             -0.004342   \n",
       "\n",
       "                                          u-component_of_wind_pblri  \\\n",
       "geopotential_height_lltw                                  -0.278402   \n",
       "water_equiv_of_accum_snow_depth_surface                    0.079912   \n",
       "drag_coefficient_surface                                  -0.000094   \n",
       "sensible_heat_net_flux_surface                            -0.005332   \n",
       "categorical_ice_pellets_yes1_no0_surface                  -0.018436   \n",
       "\n",
       "                                          direct_evaporation_cease_soil_moisture_surface  \n",
       "geopotential_height_lltw                                                       -0.151631  \n",
       "water_equiv_of_accum_snow_depth_surface                                         0.132082  \n",
       "drag_coefficient_surface                                                        0.003395  \n",
       "sensible_heat_net_flux_surface                                                  0.000045  \n",
       "categorical_ice_pellets_yes1_no0_surface                                        0.013103  \n",
       "\n",
       "[5 rows x 56 columns]"
      ]
     },
     "execution_count": 53,
     "metadata": {},
     "output_type": "execute_result"
    }
   ],
   "source": [
    "corr_pd_df.head()"
   ]
  },
  {
   "cell_type": "markdown",
   "metadata": {},
   "source": [
    "2.) Heatmap of Correlation Matrix"
   ]
  },
  {
   "cell_type": "code",
   "execution_count": 54,
   "metadata": {},
   "outputs": [
    {
     "data": {
      "text/plain": [
       "<matplotlib.axes._subplots.AxesSubplot at 0x120bcb748>"
      ]
     },
     "execution_count": 54,
     "metadata": {},
     "output_type": "execute_result"
    },
    {
     "data": {
      "image/png": "[encoded data removed]",
      "text/plain": [
       "<matplotlib.figure.Figure at 0x120aed748>"
      ]
     },
     "metadata": {},
     "output_type": "display_data"
    }
   ],
   "source": [
    "fig, ax = plt.subplots(figsize=(16, 10))\n",
    "sns.heatmap(corr_pd_df, cmap=\"RdBu\")"
   ]
  },
  {
   "cell_type": "markdown",
   "metadata": {},
   "source": [
    "--- \n",
    "\n",
    "**[2 pt]** Using the feature summaries and correlations as your guide, choose a feature to predict via machine learning models in MLlib.\n",
    "\n",
    "- Goal: Predict % of vegetation (vegetation_surface feature), based on time, soil, and water related features. \n",
    "- Potential Features: direct_evaporation_cease_soil_moisture_surface, wilting_point_surface, surface_roughness_surface, soil_type_as_in_zolber_surface, soil_porosity_surface, transpiration_stress-onset_soil_moisture_surface, number_of_soil_layers_in_root_zone_surface, temperature_surface\n",
    "- Filter original dataset by: land_cover_land1_sea0_surface == 1 (only land geohashes)\n",
    "- How you partitioned your data: \n",
    "- Why the model choices make sense (for example: if two features are highly correlated, then perhaps you don’t need a model…)"
   ]
  },
  {
   "cell_type": "code",
   "execution_count": 55,
   "metadata": {
    "collapsed": true
   },
   "outputs": [],
   "source": [
    "from pyspark.ml import Pipeline\n",
    "from pyspark.ml.regression import RandomForestRegressor, LinearRegression\n",
    "from pyspark.ml.feature import VectorIndexer, VectorAssembler\n",
    "from pyspark.ml.evaluation import RegressionEvaluator"
   ]
  },
  {
   "cell_type": "markdown",
   "metadata": {},
   "source": [
    "filter original dataset for land observations"
   ]
  },
  {
   "cell_type": "code",
   "execution_count": 56,
   "metadata": {
    "collapsed": true
   },
   "outputs": [],
   "source": [
    "land_df = df.filter(df.land_cover_land1_sea0_surface == 1)"
   ]
  },
  {
   "cell_type": "code",
   "execution_count": 57,
   "metadata": {
    "collapsed": true
   },
   "outputs": [],
   "source": [
    "land_df = land_df.select([\"direct_evaporation_cease_soil_moisture_surface\", \"wilting_point_surface\", \n",
    "                \"surface_roughness_surface\", \"soil_type_as_in_zobler_surface\", \"soil_porosity_surface\", \n",
    "                \"transpiration_stress-onset_soil_moisture_surface\", \"number_of_soil_layers_in_root_zone_surface\", \n",
    "                \"temperature_surface\", \"vegetation_surface\"])"
   ]
  },
  {
   "cell_type": "code",
   "execution_count": 58,
   "metadata": {},
   "outputs": [
    {
     "data": {
      "text/plain": [
       "(2530340, 9)"
      ]
     },
     "execution_count": 58,
     "metadata": {},
     "output_type": "execute_result"
    }
   ],
   "source": [
    "land_df.toPandas().shape"
   ]
  },
  {
   "cell_type": "markdown",
   "metadata": {},
   "source": [
    "## Attempt 1: Random Forests"
   ]
  },
  {
   "cell_type": "code",
   "execution_count": 59,
   "metadata": {
    "collapsed": true
   },
   "outputs": [],
   "source": [
    "train, test = land_df.randomSplit([0.7, 0.3])"
   ]
  },
  {
   "cell_type": "code",
   "execution_count": 60,
   "metadata": {
    "collapsed": true
   },
   "outputs": [],
   "source": [
    "train_labels = train.select(\"vegetation_surface\")\n",
    "test_labels = test.select(\"vegetation_surface\")"
   ]
  },
  {
   "cell_type": "code",
   "execution_count": 61,
   "metadata": {},
   "outputs": [
    {
     "data": {
      "text/plain": [
       "[Row(vegetation_surface=1.0)]"
      ]
     },
     "execution_count": 61,
     "metadata": {},
     "output_type": "execute_result"
    }
   ],
   "source": [
    "train_labels.take(1)"
   ]
  },
  {
   "cell_type": "code",
   "execution_count": 62,
   "metadata": {
    "collapsed": true
   },
   "outputs": [],
   "source": [
    "featureVector = VectorAssembler(inputCols=[col for col in land_df.columns if col != \"vegetation_surface\"], \n",
    "                               outputCol=\"features\")"
   ]
  },
  {
   "cell_type": "code",
   "execution_count": 63,
   "metadata": {
    "collapsed": true
   },
   "outputs": [],
   "source": [
    "# Train a RandomForest model.\n",
    "rf = RandomForestRegressor(featuresCol=\"features\", labelCol=\"vegetation_surface\")"
   ]
  },
  {
   "cell_type": "code",
   "execution_count": 64,
   "metadata": {
    "collapsed": true
   },
   "outputs": [],
   "source": [
    "# Chain indexer and forest in a Pipeline\n",
    "pipeline = Pipeline(stages=[featureVector, rf])"
   ]
  },
  {
   "cell_type": "code",
   "execution_count": 65,
   "metadata": {
    "collapsed": true
   },
   "outputs": [],
   "source": [
    "# Train model.  This also runs the indexer.\n",
    "model = pipeline.fit(train)"
   ]
  },
  {
   "cell_type": "code",
   "execution_count": 66,
   "metadata": {
    "collapsed": true
   },
   "outputs": [],
   "source": [
    "# Make predictions.\n",
    "predictions = model.transform(test)"
   ]
  },
  {
   "cell_type": "code",
   "execution_count": 67,
   "metadata": {
    "scrolled": false
   },
   "outputs": [
    {
     "name": "stdout",
     "output_type": "stream",
     "text": [
      "+------------------+--------------------+\n",
      "|        prediction|            features|\n",
      "+------------------+--------------------+\n",
      "|13.479255911246327|[0.02249999903142...|\n",
      "|13.479255911246327|[0.02249999903142...|\n",
      "|15.751661568764124|[0.02249999903142...|\n",
      "| 19.31535135283136|[0.02249999903142...|\n",
      "|20.018182206148147|[0.02249999903142...|\n",
      "+------------------+--------------------+\n",
      "only showing top 5 rows\n",
      "\n"
     ]
    }
   ],
   "source": [
    "# Select example rows to display.\n",
    "predictions.select(\"prediction\", \"features\").show(5)"
   ]
  },
  {
   "cell_type": "code",
   "execution_count": 68,
   "metadata": {
    "collapsed": true
   },
   "outputs": [],
   "source": [
    "# Select (prediction, true label) and compute test error\n",
    "evaluator = RegressionEvaluator(\n",
    "    labelCol=\"vegetation_surface\", predictionCol=\"prediction\", metricName=\"rmse\")"
   ]
  },
  {
   "cell_type": "code",
   "execution_count": 69,
   "metadata": {},
   "outputs": [
    {
     "name": "stdout",
     "output_type": "stream",
     "text": [
      "Root Mean Squared Error (RMSE) on test data = 16.6339\n"
     ]
    }
   ],
   "source": [
    "rmse = evaluator.evaluate(predictions)\n",
    "print(\"Root Mean Squared Error (RMSE) on test data = %g\" % rmse)"
   ]
  },
  {
   "cell_type": "code",
   "execution_count": 70,
   "metadata": {},
   "outputs": [
    {
     "name": "stdout",
     "output_type": "stream",
     "text": [
      "RandomForestRegressionModel (uid=RandomForestRegressor_42238fc1380b1763ff87) with 20 trees\n"
     ]
    }
   ],
   "source": [
    "rfModel = model.stages[1]\n",
    "print(rfModel)  # summary only"
   ]
  },
  {
   "cell_type": "markdown",
   "metadata": {},
   "source": [
    "Plot Lag Plot"
   ]
  },
  {
   "cell_type": "code",
   "execution_count": 71,
   "metadata": {
    "collapsed": true
   },
   "outputs": [],
   "source": [
    "test = test.withColumn('vegetation_surface', test.vegetation_surface.astype(\"float\"))\n",
    "predictions = predictions.withColumn('prediction', predictions.prediction.astype(\"float\"))"
   ]
  },
  {
   "cell_type": "code",
   "execution_count": 72,
   "metadata": {
    "collapsed": true
   },
   "outputs": [],
   "source": [
    "actual_vegetation = test.select('vegetation_surface').rdd.flatMap(lambda x : x).collect()"
   ]
  },
  {
   "cell_type": "code",
   "execution_count": 73,
   "metadata": {
    "collapsed": true
   },
   "outputs": [],
   "source": [
    "pred_vegetation = predictions.select('prediction').rdd.flatMap(lambda x : x).collect()"
   ]
  },
  {
   "cell_type": "code",
   "execution_count": 74,
   "metadata": {
    "collapsed": true
   },
   "outputs": [],
   "source": [
    "lag_vegetation = pd.DataFrame(data={\"actual\": actual_vegetation, \"pred\": pred_vegetation}, dtype=float)"
   ]
  },
  {
   "cell_type": "code",
   "execution_count": 75,
   "metadata": {
    "scrolled": true
   },
   "outputs": [
    {
     "data": {
      "text/plain": [
       "<matplotlib.axes._subplots.AxesSubplot at 0x120d58a90>"
      ]
     },
     "execution_count": 75,
     "metadata": {},
     "output_type": "execute_result"
    },
    {
     "data": {
      "image/png": "[encoded data removed]",
      "text/plain": [
       "<matplotlib.figure.Figure at 0x120e456a0>"
      ]
     },
     "metadata": {},
     "output_type": "display_data"
    }
   ],
   "source": [
    "sns.regplot(\"actual\", \"pred\", data=lag_vegetation)"
   ]
  },
  {
   "cell_type": "markdown",
   "metadata": {},
   "source": [
    "Random Forests performed SUPER poorly for this one... let's simplify and try Linear Regression. "
   ]
  },
  {
   "cell_type": "markdown",
   "metadata": {},
   "source": [
    "## Attempt 2: Linear Regression"
   ]
  },
  {
   "cell_type": "code",
   "execution_count": 76,
   "metadata": {
    "collapsed": true
   },
   "outputs": [],
   "source": [
    "train, test = land_df.randomSplit([0.7, 0.3])"
   ]
  },
  {
   "cell_type": "code",
   "execution_count": 77,
   "metadata": {
    "collapsed": true
   },
   "outputs": [],
   "source": [
    "featureVector = VectorAssembler(inputCols=[col for col in land_df.columns if col != \"vegetation_surface\"], \n",
    "                               outputCol=\"features\")"
   ]
  },
  {
   "cell_type": "code",
   "execution_count": 78,
   "metadata": {
    "collapsed": true
   },
   "outputs": [],
   "source": [
    "lr_A = LinearRegression(featuresCol=\"features\", labelCol=\"vegetation_surface\")\n",
    "lr_B = LinearRegression(featuresCol=\"features\", labelCol=\"vegetation_surface\", regParam=100.0)\n",
    "lr_C = LinearRegression(featuresCol=\"features\", labelCol=\"vegetation_surface\", regParam=50.0)"
   ]
  },
  {
   "cell_type": "code",
   "execution_count": 79,
   "metadata": {
    "collapsed": true
   },
   "outputs": [],
   "source": [
    "pipelineA = Pipeline(stages=[featureVector, lr_A])\n",
    "pipelineB = Pipeline(stages=[featureVector, lr_B])\n",
    "pipelineC = Pipeline(stages=[featureVector, lr_C])"
   ]
  },
  {
   "cell_type": "code",
   "execution_count": 80,
   "metadata": {
    "collapsed": true
   },
   "outputs": [],
   "source": [
    "modelA = pipelineA.fit(train)\n",
    "modelB = pipelineB.fit(train)\n",
    "modelC = pipelineC.fit(train)"
   ]
  },
  {
   "cell_type": "code",
   "execution_count": 81,
   "metadata": {
    "collapsed": true
   },
   "outputs": [],
   "source": [
    "# Make predictions.\n",
    "predictionsA = modelA.transform(test)\n",
    "predictionsB = modelB.transform(test)\n",
    "predictionsC = modelC.transform(test)"
   ]
  },
  {
   "cell_type": "code",
   "execution_count": 82,
   "metadata": {
    "scrolled": false
   },
   "outputs": [
    {
     "name": "stdout",
     "output_type": "stream",
     "text": [
      "+------------------+--------------------+\n",
      "|        prediction|            features|\n",
      "+------------------+--------------------+\n",
      "|11.801294943534458|[0.02249999903142...|\n",
      "|17.323224602355936|[0.02249999903142...|\n",
      "| 17.39557250850254|[0.02249999903142...|\n",
      "|19.030137492089125|[0.02249999903142...|\n",
      "|19.403044820415403|[0.02249999903142...|\n",
      "+------------------+--------------------+\n",
      "only showing top 5 rows\n",
      "\n"
     ]
    }
   ],
   "source": [
    "# Select example rows to display.\n",
    "predictionsA.select(\"prediction\", \"features\").show(5)"
   ]
  },
  {
   "cell_type": "code",
   "execution_count": 83,
   "metadata": {},
   "outputs": [
    {
     "name": "stdout",
     "output_type": "stream",
     "text": [
      "+------------------+--------------------+\n",
      "|        prediction|            features|\n",
      "+------------------+--------------------+\n",
      "|26.934049672309385|[0.02249999903142...|\n",
      "| 28.09343878262061|[0.02249999903142...|\n",
      "|28.108629011349123|[0.02249999903142...|\n",
      "|28.451823684073503|[0.02249999903142...|\n",
      "|  28.5301196281238|[0.02249999903142...|\n",
      "+------------------+--------------------+\n",
      "only showing top 5 rows\n",
      "\n"
     ]
    }
   ],
   "source": [
    "predictionsB.select(\"prediction\", \"features\").show(5)"
   ]
  },
  {
   "cell_type": "code",
   "execution_count": 84,
   "metadata": {},
   "outputs": [
    {
     "name": "stdout",
     "output_type": "stream",
     "text": [
      "+------------------+--------------------+\n",
      "|        prediction|            features|\n",
      "+------------------+--------------------+\n",
      "|23.984626913117552|[0.02249999903142...|\n",
      "| 25.90849889752046|[0.02249999903142...|\n",
      "| 25.93370532323857|[0.02249999903142...|\n",
      "| 26.50319714455948|[0.02249999903142...|\n",
      "|26.633120197925322|[0.02249999903142...|\n",
      "+------------------+--------------------+\n",
      "only showing top 5 rows\n",
      "\n"
     ]
    }
   ],
   "source": [
    "predictionsC.select(\"prediction\", \"features\").show(5)"
   ]
  },
  {
   "cell_type": "code",
   "execution_count": 85,
   "metadata": {
    "collapsed": true
   },
   "outputs": [],
   "source": [
    "# Select (prediction, true label) and compute test error\n",
    "evaluator = RegressionEvaluator(\n",
    "    labelCol=\"vegetation_surface\", predictionCol=\"prediction\", metricName=\"rmse\")"
   ]
  },
  {
   "cell_type": "code",
   "execution_count": 86,
   "metadata": {},
   "outputs": [
    {
     "name": "stdout",
     "output_type": "stream",
     "text": [
      "ModelA (reg=0.0) Root Mean Squared Error (RMSE) on test data = 19.2702\n",
      "ModelB (reg=100.0) Root Mean Squared Error (RMSE) on test data = 24.0461\n",
      "ModelC (reg=50.0) Root Mean Squared Error (RMSE) on test data = 22.6923\n"
     ]
    }
   ],
   "source": [
    "rmseA = evaluator.evaluate(predictionsA)\n",
    "rmseB = evaluator.evaluate(predictionsB)\n",
    "rmseC = evaluator.evaluate(predictionsC)\n",
    "print(\"ModelA (reg=0.0) Root Mean Squared Error (RMSE) on test data = %g\" % rmseA)\n",
    "print(\"ModelB (reg=100.0) Root Mean Squared Error (RMSE) on test data = %g\" % rmseB)\n",
    "print(\"ModelC (reg=50.0) Root Mean Squared Error (RMSE) on test data = %g\" % rmseC)"
   ]
  },
  {
   "cell_type": "markdown",
   "metadata": {},
   "source": [
    "Plot Lag Plot"
   ]
  },
  {
   "cell_type": "code",
   "execution_count": 87,
   "metadata": {
    "collapsed": true
   },
   "outputs": [],
   "source": [
    "test = test.withColumn('vegetation_surface', test.vegetation_surface.astype(\"float\"))\n",
    "predictionsA = predictionsA.withColumn('prediction', predictionsA.prediction.astype(\"float\"))\n",
    "predictionsB = predictionsB.withColumn('prediction', predictionsB.prediction.astype(\"float\"))\n",
    "predictionsC = predictionsC.withColumn('prediction', predictionsC.prediction.astype(\"float\"))"
   ]
  },
  {
   "cell_type": "code",
   "execution_count": 88,
   "metadata": {
    "collapsed": true
   },
   "outputs": [],
   "source": [
    "actual = test.select('vegetation_surface').rdd.flatMap(lambda x : x).collect()\n",
    "pred_A = predictionsA.select('prediction').rdd.flatMap(lambda x : x).collect()\n",
    "pred_B = predictionsB.select('prediction').rdd.flatMap(lambda x : x).collect()\n",
    "pred_C = predictionsC.select('prediction').rdd.flatMap(lambda x : x).collect()"
   ]
  },
  {
   "cell_type": "code",
   "execution_count": 89,
   "metadata": {
    "collapsed": true
   },
   "outputs": [],
   "source": [
    "lag_A = pd.DataFrame(data={\"actual\": actual, \"pred\": pred_A}, dtype=float)\n",
    "lag_B = pd.DataFrame(data={\"actual\": actual, \"pred\": pred_B}, dtype=float)\n",
    "lag_C = pd.DataFrame(data={\"actual\": actual, \"pred\": pred_C}, dtype=float)"
   ]
  },
  {
   "cell_type": "code",
   "execution_count": 90,
   "metadata": {},
   "outputs": [
    {
     "data": {
      "text/plain": [
       "<matplotlib.axes._subplots.AxesSubplot at 0x123c5cc18>"
      ]
     },
     "execution_count": 90,
     "metadata": {},
     "output_type": "execute_result"
    },
    {
     "data": {
      "image/png": "[encoded data removed]",
      "text/plain": [
       "<matplotlib.figure.Figure at 0x123c316d8>"
      ]
     },
     "metadata": {},
     "output_type": "display_data"
    }
   ],
   "source": [
    "sns.regplot(\"actual\", \"pred\", data=lag_A)"
   ]
  },
  {
   "cell_type": "markdown",
   "metadata": {},
   "source": [
    "The lag plot for seems to have a "
   ]
  },
  {
   "cell_type": "code",
   "execution_count": 91,
   "metadata": {
    "scrolled": false
   },
   "outputs": [
    {
     "data": {
      "text/plain": [
       "<matplotlib.axes._subplots.AxesSubplot at 0x133d22128>"
      ]
     },
     "execution_count": 91,
     "metadata": {},
     "output_type": "execute_result"
    },
    {
     "data": {
      "image/png": "[encoded data removed]",
      "text/plain": [
       "<matplotlib.figure.Figure at 0x133cd9358>"
      ]
     },
     "metadata": {},
     "output_type": "display_data"
    }
   ],
   "source": [
    "sns.regplot(\"actual\", \"pred\", data=lag_B)"
   ]
  },
  {
   "cell_type": "code",
   "execution_count": 92,
   "metadata": {},
   "outputs": [
    {
     "data": {
      "text/plain": [
       "<matplotlib.axes._subplots.AxesSubplot at 0x133963dd8>"
      ]
     },
     "execution_count": 92,
     "metadata": {},
     "output_type": "execute_result"
    },
    {
     "data": {
      "image/png": "[encoded data removed]",
      "text/plain": [
       "<matplotlib.figure.Figure at 0x120df3f28>"
      ]
     },
     "metadata": {},
     "output_type": "display_data"
    }
   ],
   "source": [
    "sns.regplot(\"actual\", \"pred\", data=lag_C)"
   ]
  },
  {
   "cell_type": "markdown",
   "metadata": {},
   "source": [
    "**[1 pt]** A visualization built from the dataset. You can choose absolutely any type of visualization here, but it should help tell a story about the data. \n",
    "- [Precipitation Map](https://plot.ly/python/scatter-plots-on-maps/)\n",
    "- [Animation/Slider](https://plot.ly/python/ipython-notebook-tutorial/)"
   ]
  },
  {
   "cell_type": "code",
   "execution_count": 109,
   "metadata": {},
   "outputs": [
    {
     "data": {
      "text/html": [
       "<script>requirejs.config({paths: { 'plotly': ['https://cdn.plot.ly/plotly-latest.min']},});if(!window.Plotly) {{require(['plotly'],function(plotly) {window.Plotly=plotly;});}}</script>"
      ],
      "text/vnd.plotly.v1+html": [
       "<script>requirejs.config({paths: { 'plotly': ['https://cdn.plot.ly/plotly-latest.min']},});if(!window.Plotly) {{require(['plotly'],function(plotly) {window.Plotly=plotly;});}}</script>"
      ]
     },
     "metadata": {},
     "output_type": "display_data"
    }
   ],
   "source": [
    "import plotly.plotly as py\n",
    "from plotly.offline import download_plotlyjs, init_notebook_mode, plot, iplot\n",
    "init_notebook_mode(connected=True)\n",
    "import plotly.graph_objs as go"
   ]
  },
  {
   "cell_type": "markdown",
   "metadata": {},
   "source": [
    "### Prepare CA Precipitation Data"
   ]
  },
  {
   "cell_type": "code",
   "execution_count": 94,
   "metadata": {
    "collapsed": true
   },
   "outputs": [],
   "source": [
    "CA_geos = ['9pr', '9r2', '9r3', '9r0', '9r1', '9r4', '9pr', '9pp', '9nz', '9qb', '9qc', '9qf', '9qg', '9q8', '9q9', '9qd', '9qd','9qe', '9qs', '9q3', '9q6', '9q7', '9qk', '9qm', '9qq', '9q4', '9q5', '9qh', '9qj', '9qn', '9mg', '9mu', '9mv', '9my']"
   ]
  },
  {
   "cell_type": "code",
   "execution_count": 95,
   "metadata": {
    "collapsed": true
   },
   "outputs": [],
   "source": [
    "CA_rain = df.filter(df.Geohash.substr(0, len(CA_geos[0])).isin(CA_geos))"
   ]
  },
  {
   "cell_type": "code",
   "execution_count": 96,
   "metadata": {
    "collapsed": true
   },
   "outputs": [],
   "source": [
    "CA_rain = CA_rain.groupBy(\"Geohash\", \"Timestamp\").avg(\"precipitable_water_entire_atmosphere\").alias('avg_rain')"
   ]
  },
  {
   "cell_type": "code",
   "execution_count": 97,
   "metadata": {
    "collapsed": true
   },
   "outputs": [],
   "source": [
    "CA_rain_df = CA_rain.toPandas()"
   ]
  },
  {
   "cell_type": "code",
   "execution_count": 98,
   "metadata": {},
   "outputs": [
    {
     "data": {
      "text/html": [
       "<div>\n",
       "<style>\n",
       "    .dataframe thead tr:only-child th {\n",
       "        text-align: right;\n",
       "    }\n",
       "\n",
       "    .dataframe thead th {\n",
       "        text-align: left;\n",
       "    }\n",
       "\n",
       "    .dataframe tbody tr th {\n",
       "        vertical-align: top;\n",
       "    }\n",
       "</style>\n",
       "<table border=\"1\" class=\"dataframe\">\n",
       "  <thead>\n",
       "    <tr style=\"text-align: right;\">\n",
       "      <th></th>\n",
       "      <th>Geohash</th>\n",
       "      <th>Timestamp</th>\n",
       "      <th>avg(precipitable_water_entire_atmosphere)</th>\n",
       "    </tr>\n",
       "  </thead>\n",
       "  <tbody>\n",
       "    <tr>\n",
       "      <th>0</th>\n",
       "      <td>9qnr1k0x7zkp</td>\n",
       "      <td>2015-04-01</td>\n",
       "      <td>6.208261</td>\n",
       "    </tr>\n",
       "    <tr>\n",
       "      <th>1</th>\n",
       "      <td>9qkhmh59k5s0</td>\n",
       "      <td>2015-04-01</td>\n",
       "      <td>10.052879</td>\n",
       "    </tr>\n",
       "    <tr>\n",
       "      <th>2</th>\n",
       "      <td>9qc05p2dqzkp</td>\n",
       "      <td>2015-04-01</td>\n",
       "      <td>13.023348</td>\n",
       "    </tr>\n",
       "    <tr>\n",
       "      <th>3</th>\n",
       "      <td>9q72kvp15x80</td>\n",
       "      <td>2015-04-01</td>\n",
       "      <td>18.632076</td>\n",
       "    </tr>\n",
       "    <tr>\n",
       "      <th>4</th>\n",
       "      <td>9mv0r4nx7e2p</td>\n",
       "      <td>2015-04-01</td>\n",
       "      <td>5.874104</td>\n",
       "    </tr>\n",
       "  </tbody>\n",
       "</table>\n",
       "</div>"
      ],
      "text/plain": [
       "        Geohash   Timestamp  avg(precipitable_water_entire_atmosphere)\n",
       "0  9qnr1k0x7zkp  2015-04-01                                   6.208261\n",
       "1  9qkhmh59k5s0  2015-04-01                                  10.052879\n",
       "2  9qc05p2dqzkp  2015-04-01                                  13.023348\n",
       "3  9q72kvp15x80  2015-04-01                                  18.632076\n",
       "4  9mv0r4nx7e2p  2015-04-01                                   5.874104"
      ]
     },
     "execution_count": 98,
     "metadata": {},
     "output_type": "execute_result"
    }
   ],
   "source": [
    "CA_rain_df.head()"
   ]
  },
  {
   "cell_type": "code",
   "execution_count": 99,
   "metadata": {},
   "outputs": [],
   "source": [
    "CA_rain_df['Lat'] = CA_rain_df.Geohash.apply(lambda x : geohash.decode(x)[0])"
   ]
  },
  {
   "cell_type": "code",
   "execution_count": 100,
   "metadata": {
    "collapsed": true
   },
   "outputs": [],
   "source": [
    "CA_rain_df['Lon'] = CA_rain_df.Geohash.apply(lambda x : geohash.decode(x)[1])"
   ]
  },
  {
   "cell_type": "code",
   "execution_count": 101,
   "metadata": {
    "collapsed": true
   },
   "outputs": [],
   "source": [
    "CA_rain_df['avg(precipitable_water_entire_atmosphere)'] = CA_rain_df['avg(precipitable_water_entire_atmosphere)'].apply(lambda x : x * 0.039370)"
   ]
  },
  {
   "cell_type": "code",
   "execution_count": 102,
   "metadata": {},
   "outputs": [
    {
     "data": {
      "text/html": [
       "<div>\n",
       "<style>\n",
       "    .dataframe thead tr:only-child th {\n",
       "        text-align: right;\n",
       "    }\n",
       "\n",
       "    .dataframe thead th {\n",
       "        text-align: left;\n",
       "    }\n",
       "\n",
       "    .dataframe tbody tr th {\n",
       "        vertical-align: top;\n",
       "    }\n",
       "</style>\n",
       "<table border=\"1\" class=\"dataframe\">\n",
       "  <thead>\n",
       "    <tr style=\"text-align: right;\">\n",
       "      <th></th>\n",
       "      <th>Geohash</th>\n",
       "      <th>Timestamp</th>\n",
       "      <th>Avg. Precipitation</th>\n",
       "      <th>Lat</th>\n",
       "      <th>Lon</th>\n",
       "    </tr>\n",
       "  </thead>\n",
       "  <tbody>\n",
       "    <tr>\n",
       "      <th>0</th>\n",
       "      <td>9qnr1k0x7zkp</td>\n",
       "      <td>2015-04-01</td>\n",
       "      <td>0.244419</td>\n",
       "      <td>35.003726</td>\n",
       "      <td>-114.905153</td>\n",
       "    </tr>\n",
       "    <tr>\n",
       "      <th>1</th>\n",
       "      <td>9qkhmh59k5s0</td>\n",
       "      <td>2015-04-01</td>\n",
       "      <td>0.395782</td>\n",
       "      <td>35.925526</td>\n",
       "      <td>-117.900290</td>\n",
       "    </tr>\n",
       "    <tr>\n",
       "      <th>2</th>\n",
       "      <td>9qc05p2dqzkp</td>\n",
       "      <td>2015-04-01</td>\n",
       "      <td>0.512729</td>\n",
       "      <td>38.009002</td>\n",
       "      <td>-122.210932</td>\n",
       "    </tr>\n",
       "    <tr>\n",
       "      <th>3</th>\n",
       "      <td>9q72kvp15x80</td>\n",
       "      <td>2015-04-01</td>\n",
       "      <td>0.733545</td>\n",
       "      <td>35.227873</td>\n",
       "      <td>-118.961184</td>\n",
       "    </tr>\n",
       "    <tr>\n",
       "      <th>4</th>\n",
       "      <td>9mv0r4nx7e2p</td>\n",
       "      <td>2015-04-01</td>\n",
       "      <td>0.231263</td>\n",
       "      <td>32.399945</td>\n",
       "      <td>-116.402056</td>\n",
       "    </tr>\n",
       "  </tbody>\n",
       "</table>\n",
       "</div>"
      ],
      "text/plain": [
       "        Geohash   Timestamp  Avg. Precipitation        Lat         Lon\n",
       "0  9qnr1k0x7zkp  2015-04-01            0.244419  35.003726 -114.905153\n",
       "1  9qkhmh59k5s0  2015-04-01            0.395782  35.925526 -117.900290\n",
       "2  9qc05p2dqzkp  2015-04-01            0.512729  38.009002 -122.210932\n",
       "3  9q72kvp15x80  2015-04-01            0.733545  35.227873 -118.961184\n",
       "4  9mv0r4nx7e2p  2015-04-01            0.231263  32.399945 -116.402056"
      ]
     },
     "execution_count": 102,
     "metadata": {},
     "output_type": "execute_result"
    }
   ],
   "source": [
    "CA_rain_df.rename(columns={'avg(precipitable_water_entire_atmosphere)': 'Avg. Precipitation'}, inplace=True)\n",
    "CA_rain_df.head()"
   ]
  },
  {
   "cell_type": "code",
   "execution_count": 103,
   "metadata": {},
   "outputs": [
    {
     "data": {
      "text/plain": [
       "(43377, 5)"
      ]
     },
     "execution_count": 103,
     "metadata": {},
     "output_type": "execute_result"
    }
   ],
   "source": [
    "CA_rain_df.shape"
   ]
  },
  {
   "cell_type": "markdown",
   "metadata": {},
   "source": [
    "### Plotting CA Precipitation"
   ]
  },
  {
   "cell_type": "markdown",
   "metadata": {},
   "source": [
    "Color Definitions for Plot"
   ]
  },
  {
   "cell_type": "code",
   "execution_count": 104,
   "metadata": {
    "collapsed": true
   },
   "outputs": [],
   "source": [
    "scl = [0,\"rgb(150,0,90)\"],[0.125,\"rgb(0, 0, 200)\"],[0.25,\"rgb(0, 25, 255)\"],\\\n",
    "[0.375,\"rgb(0, 152, 255)\"],[0.5,\"rgb(44, 255, 150)\"],[0.625,\"rgb(151, 255, 0)\"],\\\n",
    "[0.75,\"rgb(255, 234, 0)\"],[0.875,\"rgb(255, 111, 0)\"],[1,\"rgb(255, 0, 0)\"]"
   ]
  },
  {
   "cell_type": "code",
   "execution_count": 105,
   "metadata": {},
   "outputs": [],
   "source": [
    "def prep_data(df, user_date): \n",
    "    data = [ dict(\n",
    "        lat = df[df['Timestamp'] == user_date]['Lat'],\n",
    "        lon = df[df['Timestamp'] == user_date]['Lon'],\n",
    "        text = df[df['Timestamp'] == user_date]['Avg. Precipitation'].astype(str) + ' inches',\n",
    "        marker = dict(\n",
    "            color = df[df['Timestamp'] == user_date]['Avg. Precipitation'],\n",
    "            colorscale = scl,\n",
    "            reversescale = True,\n",
    "            opacity = 0.7,\n",
    "            size = 2,\n",
    "            colorbar = dict(\n",
    "                thickness = 10,\n",
    "                titleside = \"right\",\n",
    "                outlinecolor = \"rgba(68, 68, 68, 0)\",\n",
    "                ticks = \"outside\",\n",
    "                ticklen = 3,\n",
    "                showticksuffix = \"last\",\n",
    "                ticksuffix = \" inches\",\n",
    "                dtick = 0.1\n",
    "            ),\n",
    "        ),\n",
    "        type = 'scattergeo'\n",
    "    ) ]\n",
    "    return data"
   ]
  },
  {
   "cell_type": "code",
   "execution_count": 106,
   "metadata": {
    "collapsed": true
   },
   "outputs": [],
   "source": [
    "def prep_layout(user_date):\n",
    "    layout = dict(\n",
    "        geo = dict(\n",
    "            scope = 'north america',\n",
    "            showland = True,\n",
    "            landcolor = \"rgb(212, 212, 212)\",\n",
    "            subunitcolor = \"rgb(255, 255, 255)\",\n",
    "            countrycolor = \"rgb(255, 255, 255)\",\n",
    "            showlakes = True,\n",
    "            lakecolor = \"rgb(255, 255, 255)\",\n",
    "            showsubunits = True,\n",
    "            showcountries = True,\n",
    "            resolution = 50,\n",
    "            projection = dict(\n",
    "                type = 'conic conformal',\n",
    "                rotation = dict(\n",
    "                    lon = -100\n",
    "                )\n",
    "            ),\n",
    "            lonaxis = dict(\n",
    "                showgrid = True,\n",
    "                gridwidth = 0.5,\n",
    "                range= [ -112.0, -126.0 ],\n",
    "                dtick = 5\n",
    "            ),\n",
    "            lataxis = dict (\n",
    "                showgrid = True,\n",
    "                gridwidth = 0.5,\n",
    "                range= [ 45.0, 31.0 ],\n",
    "                dtick = 5\n",
    "            )\n",
    "        ),\n",
    "        title = 'CA Precipitation {}-2015<br>Source: <a href=\"http://water.weather.gov/precip/\">NAM</a>'.format(user_date.month)\n",
    "    )\n",
    "    return layout"
   ]
  },
  {
   "cell_type": "code",
   "execution_count": 107,
   "metadata": {
    "collapsed": true
   },
   "outputs": [],
   "source": [
    "def plot_CA_precip_map(df, month):\n",
    "    dates = df.Timestamp.unique()\n",
    "    dates.sort()\n",
    "    user_date = dates[month-1]\n",
    "    data = prep_data(df, user_date)\n",
    "    layout = prep_layout(user_date)\n",
    "    fig = {'data': data, 'layout': layout}\n",
    "    fname = 'CA-Precipitation_{}-{}'.format(user_date.month, user_date.year)\n",
    "    return py.iplot(fig, filename=fname, sharing='public')"
   ]
  },
  {
   "cell_type": "markdown",
   "metadata": {},
   "source": [
    "### Example: Comparing CA Precipitation: March 2015 vs. October 2015"
   ]
  },
  {
   "cell_type": "code",
   "execution_count": 110,
   "metadata": {},
   "outputs": [
    {
     "data": {
      "text/html": [
       "<iframe id=\"igraph\" scrolling=\"no\" style=\"border:none;\" seamless=\"seamless\" src=\"https://plot.ly/~mbaybay/242.embed\" height=\"525px\" width=\"100%\"></iframe>"
      ],
      "text/plain": [
       "<plotly.tools.PlotlyDisplay object>"
      ]
     },
     "execution_count": 110,
     "metadata": {},
     "output_type": "execute_result"
    }
   ],
   "source": [
    "plot_CA_precip_map(CA_rain_df, 3)"
   ]
  },
  {
   "cell_type": "markdown",
   "metadata": {},
   "source": [
    "CA Precipitation 03-2015: [Plotly Interactive Map Link](https://plot.ly/~mbaybay/242)\n",
    "\n",
    "- Much of the plot is red/yellow and some green in central CA. This indicates low level of precipitation in March. "
   ]
  },
  {
   "cell_type": "code",
   "execution_count": 111,
   "metadata": {},
   "outputs": [
    {
     "data": {
      "text/html": [
       "<iframe id=\"igraph\" scrolling=\"no\" style=\"border:none;\" seamless=\"seamless\" src=\"https://plot.ly/~mbaybay/244.embed\" height=\"525px\" width=\"100%\"></iframe>"
      ],
      "text/plain": [
       "<plotly.tools.PlotlyDisplay object>"
      ]
     },
     "execution_count": 111,
     "metadata": {},
     "output_type": "execute_result"
    }
   ],
   "source": [
    "plot_CA_precip_map(CA_rain_df, 10)"
   ]
  },
  {
   "cell_type": "markdown",
   "metadata": {
    "collapsed": true
   },
   "source": [
    "CA Precipitation 10-2015: [Plotly Interactive Map Link](https://plot.ly/~mbaybay/244)\n",
    "\n",
    "* In October, most of the area is green/blue, indicating a much higher level of precipitation overall for the state compared to March. "
   ]
  },
  {
   "cell_type": "markdown",
   "metadata": {},
   "source": [
    "With more data of precipitation for previous and later years, we could further explore how precipitation changed during the drought. "
   ]
  }
 ],
 "metadata": {
  "kernelspec": {
   "display_name": "Python 3",
   "language": "python",
   "name": "python3"
  },
  "language_info": {
   "codemirror_mode": {
    "name": "ipython",
    "version": 3
   },
   "file_extension": ".py",
   "mimetype": "text/x-python",
   "name": "python",
   "nbconvert_exporter": "python",
   "pygments_lexer": "ipython3",
   "version": "3.6.1"
  }
 },
 "nbformat": 4,
 "nbformat_minor": 2
}
